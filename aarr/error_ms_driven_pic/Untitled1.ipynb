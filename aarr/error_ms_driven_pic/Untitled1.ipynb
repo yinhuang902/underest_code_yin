{
 "cells": [
  {
   "cell_type": "code",
   "execution_count": 6,
   "id": "048b1f60-ba26-4620-841b-a36ac3c4cec5",
   "metadata": {},
   "outputs": [],
   "source": [
    "from pyomo.environ import *\n",
    "from pyomo.opt import SolverStatus, TerminationCondition\n",
    "from dataclasses import dataclass, field\n",
    "from typing import Callable, List, Dict, Tuple\n",
    "import numpy as np\n",
    "import math\n",
    "import matplotlib.pyplot as plt\n",
    "import bisect"
   ]
  },
  {
   "cell_type": "code",
   "execution_count": 5,
   "id": "4d7b5bd8-dd7f-4bb4-8107-c543b0a3a271",
   "metadata": {},
   "outputs": [],
   "source": [
    "%run problems_SNoGloDe.ipynb"
   ]
  },
  {
   "cell_type": "code",
   "execution_count": 4,
   "id": "bb44c065-cb1f-4489-9785-2a13def42820",
   "metadata": {},
   "outputs": [
    {
     "name": "stdout",
     "output_type": "stream",
     "text": [
      "GLPSOL--GLPK LP/MIP Solver 5.0\n",
      "Parameter(s) specified in the command line:\n",
      " --write C:\\Users\\pc\\AppData\\Local\\Temp\\tmp21xaucg1.glpk.raw --wglp C:\\Users\\pc\\AppData\\Local\\Temp\\tmppqizctmh.glpk.glp\n",
      " --cpxlp C:\\Users\\pc\\AppData\\Local\\Temp\\tmp342oeq5s.pyomo.lp\n",
      "Reading problem data from 'C:\\Users\\pc\\AppData\\Local\\Temp\\tmp342oeq5s.pyomo.lp'...\n",
      "5 rows, 9 columns, 13 non-zeros\n",
      "55 lines were read\n",
      "Writing problem data to 'C:\\Users\\pc\\AppData\\Local\\Temp\\tmppqizctmh.glpk.glp'...\n",
      "53 lines were written\n",
      "GLPK Simplex Optimizer 5.0\n",
      "5 rows, 9 columns, 13 non-zeros\n",
      "Preprocessing...\n",
      "4 rows, 9 columns, 12 non-zeros\n",
      "Scaling...\n",
      " A: min|aij| =  1.000e+00  max|aij| =  2.000e+01  ratio =  2.000e+01\n",
      "GM: min|aij| =  9.193e-01  max|aij| =  1.088e+00  ratio =  1.183e+00\n",
      "EQ: min|aij| =  8.483e-01  max|aij| =  1.000e+00  ratio =  1.179e+00\n",
      "Constructing initial basis...\n",
      "Size of triangular part is 4\n",
      "      0: obj =   0.000000000e+00 inf =   2.647e+02 (2)\n",
      "      2: obj =   9.800000000e+04 inf =   0.000e+00 (0)\n",
      "*     7: obj =  -1.186000000e+05 inf =   0.000e+00 (0)\n",
      "OPTIMAL LP SOLUTION FOUND\n",
      "Time used:   0.0 secs\n",
      "Memory used: 0.0 Mb (40436 bytes)\n",
      "Writing basic solution to 'C:\\Users\\pc\\AppData\\Local\\Temp\\tmp21xaucg1.glpk.raw'...\n",
      "23 lines were written\n",
      "obj = -118600.0\n",
      "x[wheat] = 120.0\n",
      "x[corn] = 80.0\n",
      "x[beets] = 300.0\n"
     ]
    }
   ],
   "source": [
    "\n",
    "# 1. 建一个场景模型\n",
    "farmer = TwoStageFarmer(predicted_yield=1.0)   # fair 场景\n",
    "m = farmer.model\n",
    "\n",
    "# 2. 选个 LP 求解器（如 glpk/cbc/gurobi），并求解\n",
    "solver = pyo.SolverFactory(\"glpk\")  # 没有 glpk 就换 cbc or gurobi\n",
    "res = solver.solve(m, tee=True)\n",
    "\n",
    "# 3. 看结果\n",
    "print(\"obj =\", pyo.value(m.obj))\n",
    "for c in farmer.planting_crops:\n",
    "    print(\"x[{}] =\".format(c), pyo.value(m.x[c]))\n"
   ]
  },
  {
   "cell_type": "code",
   "execution_count": null,
   "id": "cc56c2eb-4d8b-47c6-b051-319e8f0fed96",
   "metadata": {},
   "outputs": [],
   "source": []
  }
 ],
 "metadata": {
  "kernelspec": {
   "display_name": "Python 3 (ipykernel)",
   "language": "python",
   "name": "python3"
  },
  "language_info": {
   "codemirror_mode": {
    "name": "ipython",
    "version": 3
   },
   "file_extension": ".py",
   "mimetype": "text/x-python",
   "name": "python",
   "nbconvert_exporter": "python",
   "pygments_lexer": "ipython3",
   "version": "3.13.5"
  }
 },
 "nbformat": 4,
 "nbformat_minor": 5
}
