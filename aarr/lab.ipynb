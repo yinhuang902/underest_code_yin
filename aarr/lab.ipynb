{
 "cells": [
  {
   "cell_type": "code",
   "execution_count": 3,
   "id": "e1ca5556",
   "metadata": {},
   "outputs": [],
   "source": [
    "from pyomo.environ import *\n",
    "import numpy as np\n",
    "import matplotlib.pyplot as plt\n",
    "import bisect\n",
    "from pyomo.opt import SolverStatus, TerminationCondition"
   ]
  },
  {
   "cell_type": "code",
   "execution_count": 22,
   "id": "6f49409b",
   "metadata": {},
   "outputs": [],
   "source": [
    "m1 = ConcreteModel()\n",
    "m1.y = Var(bounds=(-1, 1))\n",
    "m1.x1 = Var(bounds=(0, 1))\n",
    "m1.x2 = Var(bounds=(0, None))\n",
    "m1.c1 = Constraint(expr=m1.x2**2 == m1.y**2)\n",
    "m1.c2 = Constraint(expr=m1.x2 == (m1.x1)**2)\n",
    "m1.obj = Objective(expr=-m1.x1, sense=minimize)"
   ]
  },
  {
   "cell_type": "code",
   "execution_count": 23,
   "id": "ee12be99",
   "metadata": {},
   "outputs": [],
   "source": [
    "def v_1(y):  \n",
    "    return - np.sqrt(np.abs(y))"
   ]
  },
  {
   "cell_type": "code",
   "execution_count": 24,
   "id": "1b4a512e",
   "metadata": {},
   "outputs": [
    {
     "name": "stdout",
     "output_type": "stream",
     "text": [
      "  \n",
      "  \n",
      "0\n",
      "add node number  0\n",
      "ERROR: Solver (gurobi) returned non-zero return code (1)\n",
      "ERROR: Solver log: Set parameter Username Set parameter LicenseID to value\n",
      "2689755 Academic license - for non-commercial use only - expires 2026-07-21\n",
      "Read LP format model from file\n",
      "/var/folders/_9/rch08jqx0f1fp17rg26k4v700000gn/T/tmpt7rk_0n1.pyomo.lp Reading\n",
      "time = 0.01 seconds x1: 8 rows, 11 columns, 22 nonzeros Traceback (most recent\n",
      "call last):\n",
      "      File \"<stdin>\", line 4, in <module> File\n",
      "      \"/opt/anaconda3/lib/python3.9/site-\n",
      "      packages/pyomo/solvers/plugins/solvers/GUROBI_RUN.py\", line 101, in\n",
      "      gurobi_run\n",
      "        model.setParam(key, value)\n",
      "      File \"src/gurobipy/_model.pyx\", line 2004, in\n",
      "      gurobipy._model.Model.setParam File \"src/gurobipy/env.pxi\", line 395, in\n",
      "      gurobipy._core.Env.setParam\n",
      "    gurobipy._exception.GurobiError: Unknown parameter 'numerics/feastol'\n"
     ]
    },
    {
     "ename": "ApplicationError",
     "evalue": "Solver (gurobi) did not exit normally",
     "output_type": "error",
     "traceback": [
      "\u001b[0;31m---------------------------------------------------------------------------\u001b[0m",
      "\u001b[0;31mApplicationError\u001b[0m                          Traceback (most recent call last)",
      "Input \u001b[0;32mIn [24]\u001b[0m, in \u001b[0;36m<cell line: 19>\u001b[0;34m()\u001b[0m\n\u001b[1;32m     65\u001b[0m     \u001b[38;5;28mprint\u001b[39m(\u001b[38;5;124m\"\u001b[39m\u001b[38;5;124m16end\u001b[39m\u001b[38;5;124m\"\u001b[39m)\n\u001b[1;32m     66\u001b[0m     \u001b[38;5;28mprint\u001b[39m(\u001b[38;5;124m'\u001b[39m\u001b[38;5;124m  \u001b[39m\u001b[38;5;124m'\u001b[39m)\n\u001b[0;32m---> 69\u001b[0m results \u001b[38;5;241m=\u001b[39m \u001b[43msolver\u001b[49m\u001b[38;5;241;43m.\u001b[39;49m\u001b[43msolve\u001b[49m\u001b[43m(\u001b[49m\u001b[43mm1\u001b[49m\u001b[43m)\u001b[49m\n\u001b[1;32m     70\u001b[0m ms_1 \u001b[38;5;241m=\u001b[39m results\u001b[38;5;241m.\u001b[39mproblem\u001b[38;5;241m.\u001b[39mlower_bound\n\u001b[1;32m     71\u001b[0m new_node \u001b[38;5;241m=\u001b[39m value(m1\u001b[38;5;241m.\u001b[39my)\n",
      "File \u001b[0;32m/opt/anaconda3/lib/python3.9/site-packages/pyomo/opt/base/solvers.py:628\u001b[0m, in \u001b[0;36mOptSolver.solve\u001b[0;34m(self, *args, **kwds)\u001b[0m\n\u001b[1;32m    626\u001b[0m     \u001b[38;5;28;01melif\u001b[39;00m \u001b[38;5;28mhasattr\u001b[39m(_status, \u001b[38;5;124m'\u001b[39m\u001b[38;5;124mlog\u001b[39m\u001b[38;5;124m'\u001b[39m) \u001b[38;5;129;01mand\u001b[39;00m _status\u001b[38;5;241m.\u001b[39mlog:\n\u001b[1;32m    627\u001b[0m         logger\u001b[38;5;241m.\u001b[39merror(\u001b[38;5;124m\"\u001b[39m\u001b[38;5;124mSolver log:\u001b[39m\u001b[38;5;130;01m\\n\u001b[39;00m\u001b[38;5;124m\"\u001b[39m \u001b[38;5;241m+\u001b[39m \u001b[38;5;28mstr\u001b[39m(_status\u001b[38;5;241m.\u001b[39mlog))\n\u001b[0;32m--> 628\u001b[0m     \u001b[38;5;28;01mraise\u001b[39;00m ApplicationError(\u001b[38;5;124m\"\u001b[39m\u001b[38;5;124mSolver (\u001b[39m\u001b[38;5;132;01m%s\u001b[39;00m\u001b[38;5;124m) did not exit normally\u001b[39m\u001b[38;5;124m\"\u001b[39m \u001b[38;5;241m%\u001b[39m \u001b[38;5;28mself\u001b[39m\u001b[38;5;241m.\u001b[39mname)\n\u001b[1;32m    629\u001b[0m solve_completion_time \u001b[38;5;241m=\u001b[39m time\u001b[38;5;241m.\u001b[39mtime()\n\u001b[1;32m    630\u001b[0m \u001b[38;5;28;01mif\u001b[39;00m \u001b[38;5;28mself\u001b[39m\u001b[38;5;241m.\u001b[39m_report_timing:\n",
      "\u001b[0;31mApplicationError\u001b[0m: Solver (gurobi) did not exit normally"
     ]
    }
   ],
   "source": [
    "delta = 1\n",
    "add_node_num=0\n",
    "n_samples=5\n",
    "tolerance=1e-8\n",
    "\n",
    "\n",
    "y_nodes = np.linspace(-delta, delta, n_samples).tolist()\n",
    "new_node = 0\n",
    "\n",
    "\n",
    "print(\"  \")\n",
    "print(\"  \")\n",
    "print(add_node_num)\n",
    "\n",
    "# reset bounds\n",
    "m1.y.setlb(-delta)\n",
    "m1.y.setub(delta)\n",
    "\n",
    "for k in range(add_node_num+1):\n",
    "    print('add node number ',k)\n",
    "    \n",
    "    if new_node not in y_nodes:\n",
    "        bisect.insort(y_nodes, new_node)\n",
    "\n",
    "\n",
    "    as_nodes = [v_1(y) for y in y_nodes]\n",
    "\n",
    "    if hasattr(m1, 'As'):\n",
    "        model_list[i].del_component('As')\n",
    "    if hasattr(m1, 'pw'):\n",
    "        model_list[i].del_component('pw')\n",
    "    #model_list[i].del_component('y')\n",
    "    #model_list[i].y = Var(bounds=(-delta, delta))\n",
    "    m1.As = Var()\n",
    "    m1.pw = Piecewise(\n",
    "        m1.As, m1.y,\n",
    "        pw_pts=y_nodes,\n",
    "        f_rule=as_nodes,\n",
    "        pw_constr_type='EQ',\n",
    "        pw_repn='INC'\n",
    "    )\n",
    "\n",
    "    solver = SolverFactory('gurobi')\n",
    "    solver.options['numerics/feastol'] = tolerance\n",
    "    solver.options['numerics/dualfeastol'] = tolerance\n",
    "    solver.options['limits/gap'] = tolerance\n",
    "\n",
    "    \n",
    "    '''\n",
    "    old_expr = model_list[i].obj.expr\n",
    "    model_list[i].del_component('obj')\n",
    "    model_list[i].obj = Objective(expr=old_expr - model_list[i].As, sense=minimize)\n",
    "    '''\n",
    "    #solver.solve(model_list[i])\n",
    "    # get the ms value\n",
    "    original_expr = m1.obj.expr\n",
    "    m1.obj.deactivate()   \n",
    "    #model_list[i].del_component('obj')\n",
    "    m1.obj2 = Objective(expr=original_expr - m1.As, sense=minimize)\n",
    "\n",
    "    if k == 16:\n",
    "        print('  ')\n",
    "        print(\"16start\")\n",
    "        results = solver.solve(model_list[i],tee = True)\n",
    "        print(\"16end\")\n",
    "        print('  ')\n",
    "\n",
    "\n",
    "    results = solver.solve(m1)\n",
    "    ms_1 = results.problem.lower_bound\n",
    "    new_node = value(m1.y)\n",
    "    print('new node is ',new_node)\n",
    "    print('ms is ',ms_1)\n",
    "    print(' ')\n",
    "    print(' ')\n",
    "    print(' ')\n",
    "    print(' ')\n",
    "\n"
   ]
  },
  {
   "cell_type": "code",
   "execution_count": null,
   "id": "cf6a7115",
   "metadata": {},
   "outputs": [],
   "source": []
  },
  {
   "cell_type": "code",
   "execution_count": null,
   "id": "e00e4a33",
   "metadata": {},
   "outputs": [],
   "source": []
  },
  {
   "cell_type": "code",
   "execution_count": null,
   "id": "8848e823",
   "metadata": {},
   "outputs": [],
   "source": []
  },
  {
   "cell_type": "code",
   "execution_count": null,
   "id": "a93fd736",
   "metadata": {},
   "outputs": [],
   "source": []
  },
  {
   "cell_type": "code",
   "execution_count": null,
   "id": "c1b77f9e",
   "metadata": {},
   "outputs": [],
   "source": []
  },
  {
   "cell_type": "code",
   "execution_count": null,
   "id": "a5842776",
   "metadata": {},
   "outputs": [],
   "source": []
  },
  {
   "cell_type": "code",
   "execution_count": null,
   "id": "3573aeba",
   "metadata": {},
   "outputs": [],
   "source": []
  },
  {
   "cell_type": "code",
   "execution_count": null,
   "id": "fa48d419",
   "metadata": {},
   "outputs": [],
   "source": []
  },
  {
   "cell_type": "code",
   "execution_count": 21,
   "id": "33c32833",
   "metadata": {},
   "outputs": [
    {
     "name": "stdout",
     "output_type": "stream",
     "text": [
      "\n",
      "Problem: \n",
      "- Name: x1\n",
      "  Lower bound: -0.17678943333361818\n",
      "  Upper bound: -0.17677899799800684\n",
      "  Number of objectives: 1\n",
      "  Number of constraints: 10\n",
      "  Number of variables: 11\n",
      "  Number of binary variables: 3\n",
      "  Number of integer variables: 3\n",
      "  Number of continuous variables: 8\n",
      "  Number of nonzeros: 22\n",
      "  Sense: minimize\n",
      "Solver: \n",
      "- Status: ok\n",
      "  Return code: 0\n",
      "  Message: Model was solved to optimality (subject to tolerances), and an optimal solution is available.\n",
      "  Termination condition: optimal\n",
      "  Termination message: Model was solved to optimality (subject to tolerances), and an optimal solution is available.\n",
      "  Wall time: 0.04070711135864258\n",
      "  Error rc: 0\n",
      "  Time: 0.2385859489440918\n",
      "Solution: \n",
      "- number of solutions: 0\n",
      "  number of solutions displayed: 0\n",
      "\n"
     ]
    }
   ],
   "source": [
    "m1 = ConcreteModel()\n",
    "m1.y = Var(bounds=(-1, 1))\n",
    "m1.x1 = Var(bounds=(0, 1))\n",
    "m1.x2 = Var(bounds=(0, None))\n",
    "m1.c1 = Constraint(expr=m1.x2**2 == m1.y**2)\n",
    "m1.c2 = Constraint(expr=m1.x2 == (m1.x1)**2)\n",
    "\n",
    "y_nodes = np.linspace(-1, 1, 5).tolist()\n",
    "as_nodes = [v_1(y) for y in y_nodes]\n",
    "    \n",
    "m1.As = Var()\n",
    "m1.pw = Piecewise(\n",
    "    m1.As, m1.y,\n",
    "    pw_pts=y_nodes,\n",
    "    f_rule=as_nodes,\n",
    "    pw_constr_type='EQ',\n",
    "    pw_repn='INC'\n",
    ")\n",
    "m1.obj2 = Objective(expr=-m1.x1 - m1.As, sense=minimize)\n",
    "\n",
    "#solver = SolverFactory('scip', executable='/Users/yinhuang/miniconda3/bin/scip')\n",
    "solver = SolverFactory('gurobi')\n",
    "results = solver.solve(m1)\n",
    "print(results)"
   ]
  },
  {
   "cell_type": "code",
   "execution_count": null,
   "id": "61210c4c",
   "metadata": {},
   "outputs": [],
   "source": []
  }
 ],
 "metadata": {
  "kernelspec": {
   "display_name": "Python 3 (ipykernel)",
   "language": "python",
   "name": "python3"
  },
  "language_info": {
   "codemirror_mode": {
    "name": "ipython",
    "version": 3
   },
   "file_extension": ".py",
   "mimetype": "text/x-python",
   "name": "python",
   "nbconvert_exporter": "python",
   "pygments_lexer": "ipython3",
   "version": "3.9.12"
  }
 },
 "nbformat": 4,
 "nbformat_minor": 5
}
