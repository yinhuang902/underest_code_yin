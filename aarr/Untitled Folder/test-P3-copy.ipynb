{
 "cells": [
  {
   "cell_type": "code",
   "execution_count": 8,
   "id": "42ab324f",
   "metadata": {},
   "outputs": [],
   "source": [
    "from pyomo.environ import *\n",
    "import numpy as np\n",
    "import matplotlib.pyplot as plt\n",
    "import bisect\n",
    "from pyomo.opt import SolverStatus, TerminationCondition"
   ]
  },
  {
   "cell_type": "code",
   "execution_count": 7,
   "id": "5c8871ff",
   "metadata": {},
   "outputs": [],
   "source": [
    "def nc_underest(new_lb, new_ub, v_list, model_list, add_node_num=0, n_samples=5, tolerance=1e-8):\n",
    "    \"\"\"\n",
    "    Parameters:\n",
    "        delta (float): range of variable\n",
    "        n_samples (float): number of sample nodes\n",
    "        v_list (list): list of scenario functions  \n",
    "        model: model with submodels corresponds to each scenario\n",
    "        tolerance (float): decide when to stop\n",
    "\n",
    "    Returns: delta (float): delta\n",
    "             errors (float): hausdorff error\n",
    "             y_nodes (list): y node (to make plot)\n",
    "             as_nodes_list[0] (list): As node value (to make plot)\n",
    "             ms_list[0] (float): ms for first scenario (to make plot)\n",
    "    \"\"\"\n",
    "    N = len(model_list) \n",
    "    y_nodes = np.linspace(new_lb, new_ub, n_samples).tolist()\n",
    "    lst = np.ones(N).tolist()\n",
    "    y_opt_list = np.ones(N).tolist() \n",
    "    as_nodes_list = np.ones(N).tolist() \n",
    "    ms_list = np.ones(N).tolist() \n",
    "    eff_node_count = 0\n",
    "    new_nodes_list = [None] * N\n",
    "    \n",
    "    solver = SolverFactory('gurobi')\n",
    "    solver.options['FeasibilityTol'] = 1e-9\n",
    "    solver.options['OptimalityTol'] = tolerance\n",
    "    solver.options['NonConvex'] = 2 \n",
    "\n",
    "        \n",
    "    # reset bounds\n",
    "    for i in range(N):\n",
    "        model_list[i].y.setlb(new_lb)\n",
    "        model_list[i].y.setub(new_ub)\n",
    "    \n",
    "    print('start')\n",
    "    for k in range(add_node_num+1):\n",
    "        print('Adding node ',k)\n",
    "        for i in range(N):\n",
    "            print('Solving scenario ',i)\n",
    "            # calculate interpolation points\n",
    "            as_nodes_list[i] = [v_list[i](y) for y in y_nodes]\n",
    "        \n",
    "            # define piecewise function for each scenario\n",
    "            if hasattr(model_list[i], 'As'):\n",
    "                model_list[i].del_component('As')\n",
    "            if hasattr(model_list[i], 'pw'):\n",
    "                model_list[i].del_component('pw')\n",
    "            if hasattr(model_list[i], 'obj'):\n",
    "                model_list[i].del_component('obj')\n",
    "            model_list[i].As = Var()\n",
    "            model_list[i].pw = Piecewise(\n",
    "                model_list[i].As, model_list[i].y,\n",
    "                pw_pts=y_nodes,\n",
    "                f_rule=as_nodes_list[i],\n",
    "                pw_constr_type='EQ',\n",
    "                pw_repn='SOS2'\n",
    "            )\n",
    "\n",
    "            # set ip objective for each scenario and solve\n",
    "            model_list[i].obj = Objective(expr=model_list[i].obj_expr - model_list[i].As, sense=minimize)\n",
    "            results = solver.solve(model_list[i])\n",
    "            ms_list[i] = results.problem.lower_bound\n",
    "            \n",
    "            # check if new node is too close to old nodes         \n",
    "            if (k > 0) and (abs(new_nodes_list[i] - value(model_list[i].y)) <= 1e-6):\n",
    "                print(\"The new node is too close and not inserted\")\n",
    "                break\n",
    "                \n",
    "            # insert new nodes\n",
    "            new_nodes_list[i] = value(model_list[i].y)\n",
    "            if (new_nodes_list[i] not in y_nodes) and (k != add_node_num):\n",
    "                bisect.insort(y_nodes, new_nodes_list[i])\n",
    "                eff_node_count += 1\n",
    "\n",
    "    # define and solve the sum model\n",
    "    assum_nodes = np.sum(as_nodes_list, axis=0)\n",
    "    model_sum = ConcreteModel()\n",
    "    model_sum.y = Var(bounds=(new_lb, new_ub))\n",
    "    model_sum.As = Var()\n",
    "    model_sum.pw = Piecewise(\n",
    "        model_sum.As, model_sum.y,\n",
    "        pw_pts=y_nodes,\n",
    "        f_rule=list(assum_nodes),\n",
    "        pw_constr_type='EQ',\n",
    "        pw_repn='SOS2'\n",
    "    )\n",
    "    model_sum.obj = Objective(expr = model_sum.As, sense=minimize)\n",
    "    results = solver.solve(model_sum)\n",
    "    if (results.solver.status == SolverStatus.ok) and (results.solver.termination_condition == TerminationCondition.optimal):\n",
    "        pass\n",
    "    else:\n",
    "        print(\"Sum model doesn't get solved normally\")\n",
    "    # get the output\n",
    "    errors = results.problem.lower_bound + sum(ms_list)\n",
    "    errors = -errors\n",
    "    \n",
    "    # calculate the diameter\n",
    "    delta = (new_ub-new_lb)/2\n",
    "    return delta, errors, y_nodes, as_nodes_list[0], ms_list[0],as_nodes_list[1], ms_list[1],eff_node_count"
   ]
  },
  {
   "cell_type": "code",
   "execution_count": 3,
   "id": "3f550520",
   "metadata": {},
   "outputs": [],
   "source": [
    "# build function for each scenario \n",
    "def v_1(y):  \n",
    "    if y < 5 or y > 20:\n",
    "        return float('inf')\n",
    "    elif 5 <= y < 6.53:\n",
    "        return 2.5 * y - 10 * (2 * y - 10)\n",
    "    else:\n",
    "        return 2.5 * y - 10 * 20 / y\n",
    "\n",
    "\n",
    "def v_2(y): \n",
    "    if y < 2.22 or y > 20:\n",
    "        return float('inf')\n",
    "    elif 2.22 <= y < 3.49:\n",
    "        return 2.5 * y - 20 * (4.5 * y - 10)\n",
    "    else:\n",
    "        return 2.5 * y - 20 * 20 / y\n",
    "\n",
    "v_list = [v_1, v_2]\n",
    "\n",
    "# set up parameters and solvers\n",
    "n_samples = 5\n",
    "add_node_num=5\n",
    "ylb = 6\n",
    "yub = 15\n",
    "tolerance=1e-9\n",
    "\n",
    "m1 = ConcreteModel()\n",
    "m1.y = Var(bounds=(ylb, yub))\n",
    "m1.x1 = Var(bounds=(0, None))        ##################################\n",
    "m1.c1 = Constraint(expr= 2*m1.y-m1.x1>=10)\n",
    "m1.c2 = Constraint(expr= m1.x1 * m1.y<=20)\n",
    "#m1.c3 = Constraint(expr= 2*sqrt(m1.x1+5)*log(m1.x1+2) <= 35)\n",
    "m1.obj_expr = Expression(expr=2.5*m1.y - 10*m1.x1)\n",
    "\n",
    "m2 = ConcreteModel()\n",
    "m2.y = Var(bounds=(ylb, yub))\n",
    "m2.x2 = Var(bounds=(0, None))        ##################################\n",
    "m2.c1 = Constraint(expr= 4.5*m2.y-m2.x2>=10)\n",
    "m2.c2 = Constraint(expr= m2.x2 * m2.y<=20)\n",
    "#m1.c3 = Constraint(expr= 2*sqrt(m1.x1+5)*log(m1.x1+2) <= 35)\n",
    "m2.obj_expr = Expression(expr=2.5*m2.y - 20*m2.x2)"
   ]
  },
  {
   "cell_type": "markdown",
   "id": "a950a33c",
   "metadata": {},
   "source": [
    "# Plot the figures and error"
   ]
  },
  {
   "cell_type": "code",
   "execution_count": 5,
   "id": "8c3958ea",
   "metadata": {
    "scrolled": true
   },
   "outputs": [
    {
     "name": "stdout",
     "output_type": "stream",
     "text": [
      "start\n",
      "Adding node  0\n",
      "Solving scenario  0\n",
      "ERROR: Solver (gurobi) returned non-zero return code (1)\n",
      "ERROR: Solver log: Traceback (most recent call last):\n",
      "      File \"<stdin>\", line 5, in <module> File \"D:\\Anaconda\\lib\\site-\n",
      "      packages\\pyomo\\solvers\\plugins\\solvers\\GUROBI_RUN.py\", line 62, in\n",
      "      gurobi_run\n",
      "        model = read(model_file)\n",
      "                ^^^^^^^^^^^^^^^^\n",
      "      File \"src\\\\gurobipy\\\\gurobi.pxi\", line 336, in gurobipy._core.read File\n",
      "      \"src\\\\gurobipy\\\\gurobi.pxi\", line 116, in gurobipy._core.gurobi.read\n",
      "      File \"src\\\\gurobipy\\\\gurobi.pxi\", line 60, in\n",
      "      gurobipy._core.gurobi._getdefaultenv File \"src\\\\gurobipy\\\\env.pxi\", line\n",
      "      108, in gurobipy._core.Env.__init__\n",
      "    gurobipy._exception.GurobiError: No Gurobi license found (user pc, host\n",
      "    DESKTOP-PPPCF27, hostid 3ef6820a, cores 10)\n"
     ]
    },
    {
     "ename": "ApplicationError",
     "evalue": "Solver (gurobi) did not exit normally",
     "output_type": "error",
     "traceback": [
      "\u001b[1;31m---------------------------------------------------------------------------\u001b[0m",
      "\u001b[1;31mApplicationError\u001b[0m                          Traceback (most recent call last)",
      "\u001b[1;32m~\\AppData\\Local\\Temp\\ipykernel_108600\\3323877498.py\u001b[0m in \u001b[0;36m<module>\u001b[1;34m\u001b[0m\n\u001b[0;32m      1\u001b[0m \u001b[1;31m# make delta list\u001b[0m\u001b[1;33m\u001b[0m\u001b[1;33m\u001b[0m\u001b[0m\n\u001b[0;32m      2\u001b[0m \u001b[0madds\u001b[0m \u001b[1;33m=\u001b[0m \u001b[0mnp\u001b[0m\u001b[1;33m.\u001b[0m\u001b[0marange\u001b[0m\u001b[1;33m(\u001b[0m\u001b[1;36m0\u001b[0m\u001b[1;33m,\u001b[0m \u001b[1;36m15\u001b[0m\u001b[1;33m)\u001b[0m\u001b[1;33m\u001b[0m\u001b[1;33m\u001b[0m\u001b[0m\n\u001b[1;32m----> 3\u001b[1;33m \u001b[0mresults\u001b[0m \u001b[1;33m=\u001b[0m \u001b[1;33m[\u001b[0m\u001b[0mnc_underest\u001b[0m\u001b[1;33m(\u001b[0m\u001b[0mylb\u001b[0m\u001b[1;33m,\u001b[0m\u001b[0myub\u001b[0m\u001b[1;33m,\u001b[0m\u001b[0mv_list\u001b[0m\u001b[1;33m,\u001b[0m\u001b[1;33m[\u001b[0m\u001b[0mm1\u001b[0m\u001b[1;33m,\u001b[0m\u001b[0mm2\u001b[0m\u001b[1;33m]\u001b[0m\u001b[1;33m,\u001b[0m\u001b[0ma\u001b[0m\u001b[1;33m)\u001b[0m \u001b[1;32mfor\u001b[0m \u001b[0ma\u001b[0m \u001b[1;32min\u001b[0m \u001b[0madds\u001b[0m\u001b[1;33m]\u001b[0m\u001b[1;33m\u001b[0m\u001b[1;33m\u001b[0m\u001b[0m\n\u001b[0m",
      "\u001b[1;32m~\\AppData\\Local\\Temp\\ipykernel_108600\\3323877498.py\u001b[0m in \u001b[0;36m<listcomp>\u001b[1;34m(.0)\u001b[0m\n\u001b[0;32m      1\u001b[0m \u001b[1;31m# make delta list\u001b[0m\u001b[1;33m\u001b[0m\u001b[1;33m\u001b[0m\u001b[0m\n\u001b[0;32m      2\u001b[0m \u001b[0madds\u001b[0m \u001b[1;33m=\u001b[0m \u001b[0mnp\u001b[0m\u001b[1;33m.\u001b[0m\u001b[0marange\u001b[0m\u001b[1;33m(\u001b[0m\u001b[1;36m0\u001b[0m\u001b[1;33m,\u001b[0m \u001b[1;36m15\u001b[0m\u001b[1;33m)\u001b[0m\u001b[1;33m\u001b[0m\u001b[1;33m\u001b[0m\u001b[0m\n\u001b[1;32m----> 3\u001b[1;33m \u001b[0mresults\u001b[0m \u001b[1;33m=\u001b[0m \u001b[1;33m[\u001b[0m\u001b[0mnc_underest\u001b[0m\u001b[1;33m(\u001b[0m\u001b[0mylb\u001b[0m\u001b[1;33m,\u001b[0m\u001b[0myub\u001b[0m\u001b[1;33m,\u001b[0m\u001b[0mv_list\u001b[0m\u001b[1;33m,\u001b[0m\u001b[1;33m[\u001b[0m\u001b[0mm1\u001b[0m\u001b[1;33m,\u001b[0m\u001b[0mm2\u001b[0m\u001b[1;33m]\u001b[0m\u001b[1;33m,\u001b[0m\u001b[0ma\u001b[0m\u001b[1;33m)\u001b[0m \u001b[1;32mfor\u001b[0m \u001b[0ma\u001b[0m \u001b[1;32min\u001b[0m \u001b[0madds\u001b[0m\u001b[1;33m]\u001b[0m\u001b[1;33m\u001b[0m\u001b[1;33m\u001b[0m\u001b[0m\n\u001b[0m",
      "\u001b[1;32m~\\AppData\\Local\\Temp\\ipykernel_108600\\3472607245.py\u001b[0m in \u001b[0;36mnc_underest\u001b[1;34m(new_lb, new_ub, v_list, model_list, add_node_num, n_samples, tolerance)\u001b[0m\n\u001b[0;32m     60\u001b[0m             \u001b[1;31m# set ip objective for each scenario and solve\u001b[0m\u001b[1;33m\u001b[0m\u001b[1;33m\u001b[0m\u001b[0m\n\u001b[0;32m     61\u001b[0m             \u001b[0mmodel_list\u001b[0m\u001b[1;33m[\u001b[0m\u001b[0mi\u001b[0m\u001b[1;33m]\u001b[0m\u001b[1;33m.\u001b[0m\u001b[0mobj\u001b[0m \u001b[1;33m=\u001b[0m \u001b[0mObjective\u001b[0m\u001b[1;33m(\u001b[0m\u001b[0mexpr\u001b[0m\u001b[1;33m=\u001b[0m\u001b[0mmodel_list\u001b[0m\u001b[1;33m[\u001b[0m\u001b[0mi\u001b[0m\u001b[1;33m]\u001b[0m\u001b[1;33m.\u001b[0m\u001b[0mobj_expr\u001b[0m \u001b[1;33m-\u001b[0m \u001b[0mmodel_list\u001b[0m\u001b[1;33m[\u001b[0m\u001b[0mi\u001b[0m\u001b[1;33m]\u001b[0m\u001b[1;33m.\u001b[0m\u001b[0mAs\u001b[0m\u001b[1;33m,\u001b[0m \u001b[0msense\u001b[0m\u001b[1;33m=\u001b[0m\u001b[0mminimize\u001b[0m\u001b[1;33m)\u001b[0m\u001b[1;33m\u001b[0m\u001b[1;33m\u001b[0m\u001b[0m\n\u001b[1;32m---> 62\u001b[1;33m             \u001b[0mresults\u001b[0m \u001b[1;33m=\u001b[0m \u001b[0msolver\u001b[0m\u001b[1;33m.\u001b[0m\u001b[0msolve\u001b[0m\u001b[1;33m(\u001b[0m\u001b[0mmodel_list\u001b[0m\u001b[1;33m[\u001b[0m\u001b[0mi\u001b[0m\u001b[1;33m]\u001b[0m\u001b[1;33m)\u001b[0m\u001b[1;33m\u001b[0m\u001b[1;33m\u001b[0m\u001b[0m\n\u001b[0m\u001b[0;32m     63\u001b[0m             \u001b[0mms_list\u001b[0m\u001b[1;33m[\u001b[0m\u001b[0mi\u001b[0m\u001b[1;33m]\u001b[0m \u001b[1;33m=\u001b[0m \u001b[0mresults\u001b[0m\u001b[1;33m.\u001b[0m\u001b[0mproblem\u001b[0m\u001b[1;33m.\u001b[0m\u001b[0mlower_bound\u001b[0m\u001b[1;33m\u001b[0m\u001b[1;33m\u001b[0m\u001b[0m\n\u001b[0;32m     64\u001b[0m \u001b[1;33m\u001b[0m\u001b[0m\n",
      "\u001b[1;32mD:\\Anaconda\\lib\\site-packages\\pyomo\\opt\\base\\solvers.py\u001b[0m in \u001b[0;36msolve\u001b[1;34m(self, *args, **kwds)\u001b[0m\n\u001b[0;32m    594\u001b[0m                 \u001b[1;32melif\u001b[0m \u001b[0mhasattr\u001b[0m\u001b[1;33m(\u001b[0m\u001b[0m_status\u001b[0m\u001b[1;33m,\u001b[0m \u001b[1;34m'log'\u001b[0m\u001b[1;33m)\u001b[0m \u001b[1;32mand\u001b[0m \u001b[0m_status\u001b[0m\u001b[1;33m.\u001b[0m\u001b[0mlog\u001b[0m\u001b[1;33m:\u001b[0m\u001b[1;33m\u001b[0m\u001b[1;33m\u001b[0m\u001b[0m\n\u001b[0;32m    595\u001b[0m                     \u001b[0mlogger\u001b[0m\u001b[1;33m.\u001b[0m\u001b[0merror\u001b[0m\u001b[1;33m(\u001b[0m\u001b[1;34m\"Solver log:\\n\"\u001b[0m \u001b[1;33m+\u001b[0m \u001b[0mstr\u001b[0m\u001b[1;33m(\u001b[0m\u001b[0m_status\u001b[0m\u001b[1;33m.\u001b[0m\u001b[0mlog\u001b[0m\u001b[1;33m)\u001b[0m\u001b[1;33m)\u001b[0m\u001b[1;33m\u001b[0m\u001b[1;33m\u001b[0m\u001b[0m\n\u001b[1;32m--> 596\u001b[1;33m                 raise ApplicationError(\n\u001b[0m\u001b[0;32m    597\u001b[0m                     \"Solver (%s) did not exit normally\" % self.name)\n\u001b[0;32m    598\u001b[0m             \u001b[0msolve_completion_time\u001b[0m \u001b[1;33m=\u001b[0m \u001b[0mtime\u001b[0m\u001b[1;33m.\u001b[0m\u001b[0mtime\u001b[0m\u001b[1;33m(\u001b[0m\u001b[1;33m)\u001b[0m\u001b[1;33m\u001b[0m\u001b[1;33m\u001b[0m\u001b[0m\n",
      "\u001b[1;31mApplicationError\u001b[0m: Solver (gurobi) did not exit normally"
     ]
    }
   ],
   "source": [
    "# make delta list\n",
    "adds = np.arange(0, 15)\n",
    "results = [nc_underest(ylb,yub,v_list,[m1,m2],a) for a in adds]"
   ]
  },
  {
   "cell_type": "code",
   "execution_count": 6,
   "id": "d87a6f2c",
   "metadata": {
    "scrolled": false
   },
   "outputs": [
    {
     "ename": "NameError",
     "evalue": "name 'results' is not defined",
     "output_type": "error",
     "traceback": [
      "\u001b[1;31m---------------------------------------------------------------------------\u001b[0m",
      "\u001b[1;31mNameError\u001b[0m                                 Traceback (most recent call last)",
      "\u001b[1;32m~\\AppData\\Local\\Temp\\ipykernel_108600\\1096059622.py\u001b[0m in \u001b[0;36m<module>\u001b[1;34m\u001b[0m\n\u001b[1;32m----> 1\u001b[1;33m \u001b[1;32mfor\u001b[0m \u001b[0mi\u001b[0m \u001b[1;32min\u001b[0m \u001b[0mrange\u001b[0m\u001b[1;33m(\u001b[0m\u001b[0mlen\u001b[0m\u001b[1;33m(\u001b[0m\u001b[0mresults\u001b[0m\u001b[1;33m)\u001b[0m\u001b[1;33m)\u001b[0m\u001b[1;33m:\u001b[0m\u001b[1;33m\u001b[0m\u001b[1;33m\u001b[0m\u001b[0m\n\u001b[0m\u001b[0;32m      2\u001b[0m     \u001b[1;31m# y and z = |y|\u001b[0m\u001b[1;33m\u001b[0m\u001b[1;33m\u001b[0m\u001b[0m\n\u001b[0;32m      3\u001b[0m     \u001b[0my_vals\u001b[0m \u001b[1;33m=\u001b[0m \u001b[0mnp\u001b[0m\u001b[1;33m.\u001b[0m\u001b[0mlinspace\u001b[0m\u001b[1;33m(\u001b[0m\u001b[0mylb\u001b[0m\u001b[1;33m,\u001b[0m \u001b[0myub\u001b[0m\u001b[1;33m,\u001b[0m \u001b[1;36m100\u001b[0m\u001b[1;33m)\u001b[0m\u001b[1;33m\u001b[0m\u001b[1;33m\u001b[0m\u001b[0m\n\u001b[0;32m      4\u001b[0m     \u001b[0mQs_vals1\u001b[0m \u001b[1;33m=\u001b[0m \u001b[1;33m[\u001b[0m\u001b[0mv_list\u001b[0m\u001b[1;33m[\u001b[0m\u001b[1;36m0\u001b[0m\u001b[1;33m]\u001b[0m\u001b[1;33m(\u001b[0m\u001b[0my\u001b[0m\u001b[1;33m)\u001b[0m \u001b[1;32mfor\u001b[0m \u001b[0my\u001b[0m \u001b[1;32min\u001b[0m \u001b[0my_vals\u001b[0m\u001b[1;33m]\u001b[0m\u001b[1;33m\u001b[0m\u001b[1;33m\u001b[0m\u001b[0m\n\u001b[0;32m      5\u001b[0m     \u001b[0mQs_vals2\u001b[0m \u001b[1;33m=\u001b[0m \u001b[1;33m[\u001b[0m\u001b[0mv_list\u001b[0m\u001b[1;33m[\u001b[0m\u001b[1;36m1\u001b[0m\u001b[1;33m]\u001b[0m\u001b[1;33m(\u001b[0m\u001b[0my\u001b[0m\u001b[1;33m)\u001b[0m \u001b[1;32mfor\u001b[0m \u001b[0my\u001b[0m \u001b[1;32min\u001b[0m \u001b[0my_vals\u001b[0m\u001b[1;33m]\u001b[0m\u001b[1;33m\u001b[0m\u001b[1;33m\u001b[0m\u001b[0m\n",
      "\u001b[1;31mNameError\u001b[0m: name 'results' is not defined"
     ]
    }
   ],
   "source": [
    "for i in range(len(results)):\n",
    "    # y and z = |y|\n",
    "    y_vals = np.linspace(ylb, yub, 100)\n",
    "    Qs_vals1 = [v_list[0](y) for y in y_vals]\n",
    "    Qs_vals2 = [v_list[1](y) for y in y_vals]\n",
    "    Qs_vals_sum = [v_list[0](y)+v_list[1](y) for y in y_vals]\n",
    "\n",
    "    # As(y)\n",
    "    y_nodes = np.array(results[i][2])\n",
    "    as_nodes1 = np.array(results[i][3])\n",
    "    as_nodes2 = np.array(results[i][-3])\n",
    "    bbb1 = np.array(as_nodes1)\n",
    "    bbb2 = np.array(as_nodes2)\n",
    "    bbb_sum = bbb1+bbb2\n",
    "    ms1 = results[i][4]\n",
    "    ms2 = results[i][-2]\n",
    "    #err = -results[i][1]\n",
    "    err = ms1+ms2\n",
    "    \n",
    "    print(\"   \")\n",
    "    print(\"   \")\n",
    "    print(\"   \")\n",
    "    print('effective add node num ',results[i][-1])\n",
    "    print('y node is ',y_nodes)\n",
    "    print('y node length',len(y_nodes))\n",
    "    print(\"ms value is \",results[i][4])\n",
    "    print(\"y_opt value is \",results[i][5])\n",
    "\n",
    "    # make the plot\n",
    "    plt.figure(figsize=(8, 5))\n",
    "    plt.plot(y_vals, Qs_vals1, label=r'$v1$', color='red')\n",
    "    plt.plot(y_nodes, bbb1+ms1,label=r'$v1 underest$',color='red', marker='o',linestyle='--',alpha=0.5)\n",
    "    \n",
    "    plt.plot(y_vals, Qs_vals2, label=r'$v2$', color='blue')\n",
    "    plt.plot(y_nodes, bbb2+ms2,label=r'$v2 underest$',color='blue', marker='o',linestyle='--',alpha=0.5)\n",
    "    \n",
    "    plt.plot(y_vals, Qs_vals_sum, label=r'$v_sum$', color='black')\n",
    "    plt.plot(y_nodes, bbb_sum+err,label=r'$v_sum underest$',color='black', marker='o',linestyle='--',alpha=0.5)\n",
    "    \n",
    "    plt.xlabel('y')\n",
    "    plt.ylabel('value')\n",
    "    plt.title(f\"Plot for {i:.1f} add nodes\")\n",
    "    plt.legend()\n",
    "    plt.grid(True)\n",
    "    plt.tight_layout()\n",
    "    plt.show()"
   ]
  },
  {
   "cell_type": "code",
   "execution_count": 9,
   "id": "1bd717c8",
   "metadata": {},
   "outputs": [
    {
     "name": "stderr",
     "output_type": "stream",
     "text": [
      "No artists with labels found to put in legend.  Note that artists whose label start with an underscore are ignored when legend() is called with no argument.\n"
     ]
    },
    {
     "data": {
      "image/png": "[encoded data removed]",
      "text/plain": [
       "<Figure size 576x360 with 1 Axes>"
      ]
     },
     "metadata": {
      "needs_background": "light"
     },
     "output_type": "display_data"
    }
   ],
   "source": [
    "plt.figure(figsize=(8, 5))\n",
    "errors = [item[1] for item in results]\n",
    "plt.plot(2*adds, np.log(errors), color='red')\n",
    "\n",
    "plt.xlabel('add node num')\n",
    "plt.ylabel('error')\n",
    "plt.title(f\"error plot\")\n",
    "plt.legend()\n",
    "plt.grid(True)\n",
    "plt.tight_layout()"
   ]
  },
  {
   "cell_type": "code",
   "execution_count": null,
   "id": "ec5a4ed4",
   "metadata": {},
   "outputs": [],
   "source": []
  },
  {
   "cell_type": "code",
   "execution_count": null,
   "id": "3181763a",
   "metadata": {},
   "outputs": [],
   "source": []
  },
  {
   "cell_type": "code",
   "execution_count": null,
   "id": "2550c99c",
   "metadata": {},
   "outputs": [],
   "source": []
  },
  {
   "cell_type": "code",
   "execution_count": null,
   "id": "8dbe4e5e",
   "metadata": {},
   "outputs": [],
   "source": []
  },
  {
   "cell_type": "code",
   "execution_count": null,
   "id": "eb6615ac",
   "metadata": {},
   "outputs": [],
   "source": []
  },
  {
   "cell_type": "code",
   "execution_count": null,
   "id": "cb3076d8",
   "metadata": {},
   "outputs": [],
   "source": []
  },
  {
   "cell_type": "code",
   "execution_count": null,
   "id": "919241c7",
   "metadata": {},
   "outputs": [],
   "source": []
  },
  {
   "cell_type": "code",
   "execution_count": null,
   "id": "1a61c9ce",
   "metadata": {},
   "outputs": [],
   "source": []
  },
  {
   "cell_type": "code",
   "execution_count": null,
   "id": "964a11b6",
   "metadata": {},
   "outputs": [],
   "source": []
  },
  {
   "cell_type": "code",
   "execution_count": null,
   "id": "0969f1ca",
   "metadata": {},
   "outputs": [],
   "source": []
  },
  {
   "cell_type": "code",
   "execution_count": null,
   "id": "d5442cd2",
   "metadata": {},
   "outputs": [],
   "source": []
  },
  {
   "cell_type": "code",
   "execution_count": null,
   "id": "4b448b68",
   "metadata": {},
   "outputs": [],
   "source": []
  }
 ],
 "metadata": {
  "kernelspec": {
   "display_name": "Python 3 (ipykernel)",
   "language": "python",
   "name": "python3"
  },
  "language_info": {
   "codemirror_mode": {
    "name": "ipython",
    "version": 3
   },
   "file_extension": ".py",
   "mimetype": "text/x-python",
   "name": "python",
   "nbconvert_exporter": "python",
   "pygments_lexer": "ipython3",
   "version": "3.9.13"
  }
 },
 "nbformat": 4,
 "nbformat_minor": 5
}
