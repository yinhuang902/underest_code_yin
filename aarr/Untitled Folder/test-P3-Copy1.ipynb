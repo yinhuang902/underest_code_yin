{
 "cells": [
  {
   "cell_type": "code",
   "execution_count": 1,
   "id": "4bb7c904",
   "metadata": {},
   "outputs": [],
   "source": [
    "from pyomo.environ import *\n",
    "import numpy as np\n",
    "import matplotlib.pyplot as plt\n",
    "import bisect\n",
    "from pyomo.opt import SolverStatus, TerminationCondition"
   ]
  },
  {
   "cell_type": "code",
   "execution_count": 2,
   "id": "b2e4ec6f",
   "metadata": {},
   "outputs": [],
   "source": [
    "def insert_with_tol(y_nodes, new_node, tol=1e-9):\n",
    "    for y in y_nodes:\n",
    "        if abs(new_node - y) < tol:\n",
    "            return False\n",
    "    bisect.insort(y_nodes, new_node)\n",
    "    return True\n"
   ]
  },
  {
   "cell_type": "code",
   "execution_count": 3,
   "id": "c321188d",
   "metadata": {},
   "outputs": [],
   "source": [
    "def nc_underest(new_lb, new_ub, v_list, model_list, add_node_num=0, n_samples=5, tolerance=1e-8):\n",
    "    \"\"\"\n",
    "    Parameters:\n",
    "        delta (float): range of variable\n",
    "        n_samples (float): number of sample nodes\n",
    "        v_list (list): list of scenario functions  \n",
    "        model: model with submodels corresponds to each scenario\n",
    "        tolerance (float): decide when to stop\n",
    "\n",
    "    Returns: delta (float): delta\n",
    "             errors (float): hausdorff error\n",
    "             y_nodes (list): y node (to make plot)\n",
    "             as_nodes_list[0] (list): As node value (to make plot)\n",
    "             ms_list[0] (float): ms for first scenario (to make plot)\n",
    "    \"\"\"\n",
    "    N = len(model_list) \n",
    "    y_nodes = np.linspace(new_lb, new_ub, n_samples).tolist()\n",
    "    lst = np.ones(N).tolist() \n",
    "    y_opt_list = np.ones(N).tolist() \n",
    "    as_nodes_list = np.ones(N).tolist() \n",
    "    ms_list = np.ones(N).tolist() \n",
    "    \n",
    "    current_new_nodes = []\n",
    "    new_nodes_list = []\n",
    "    \n",
    "    #'''\n",
    "    solver = SolverFactory('gurobi')\n",
    "    solver.options['FeasibilityTol'] = 1e-9\n",
    "    solver.options['OptimalityTol'] = tolerance\n",
    "    solver.options['NonConvex'] = 2 \n",
    "    #'''\n",
    "    '''\n",
    "    solver = SolverFactory('scip', executable='/Users/yinhuang/miniconda3/bin/scip')\n",
    "    solver.options['numerics/feastol'] = tolerance\n",
    "    solver.options['numerics/dualfeastol'] = tolerance\n",
    "    solver.options['limits/gap'] = tolerance\n",
    "    '''\n",
    "    last_node = None\n",
    "        \n",
    "    # reset bounds\n",
    "    for i in range(N):\n",
    "        model_list[i].y.setlb(new_lb)\n",
    "        model_list[i].y.setub(new_ub)\n",
    "    \n",
    "    for k in range(add_node_num+1):\n",
    "        print('Add node is ',k)\n",
    "        for i in range(N):\n",
    "            print('Solving scenario ',i)\n",
    "            \n",
    "            as_nodes_list[i] = [v_list[i](y) for y in y_nodes]\n",
    "        \n",
    "            # define piecewise function for each scenario\n",
    "            if hasattr(model_list[i], 'As'):\n",
    "                model_list[i].del_component('As')\n",
    "            if hasattr(model_list[i], 'pw'):\n",
    "                model_list[i].del_component('pw')\n",
    "            if hasattr(model_list[i], 'obj'):\n",
    "                model_list[i].del_component('obj')\n",
    "\n",
    "            model_list[i].As = Var()\n",
    "            model_list[i].pw = Piecewise(\n",
    "                model_list[i].As, model_list[i].y,\n",
    "                pw_pts=y_nodes,\n",
    "                f_rule=as_nodes_list[i],\n",
    "                pw_constr_type='EQ',\n",
    "                pw_repn='SOS2'\n",
    "            )\n",
    "\n",
    "            model_list[i].obj = Objective(expr=model_list[i].obj_expr - model_list[i].As, sense=minimize)\n",
    "            results = solver.solve(model_list[i])\n",
    "            ms_list[i] = results.problem.lower_bound\n",
    "            \n",
    "            #new_ynode = -5\n",
    "            if (k == add_node_num) and (i == 0):\n",
    "                last_ynode = value(model_list[i].y)\n",
    "                print('')\n",
    "                print('PPPPPPPPPPPPP')\n",
    "                print('new node is ',last_ynode)\n",
    "                \n",
    "                \n",
    "                \n",
    "\n",
    "\n",
    "            # 终止条件：误差或节点没有明显变化\n",
    "            if last_node is not None and abs(new_node - last_node) < tolerance:\n",
    "                print(\"收敛：新点无明显变化，停止\")\n",
    "                break\n",
    "            last_node = new_node\n",
    "\n",
    "            # 插入节点（带容差判断）\n",
    "            if (k != add_node_num) and (i == 0):\n",
    "                y_nodes = insert_with_tol(y_nodes, new_node, tol=1e-9)\n",
    "                if not inserted:\n",
    "                    print(\"新点过近，未插入\")\n",
    "                    break\n",
    "     \n",
    "\n",
    "\n",
    "    \n",
    "    # define and solve the sum model\n",
    "    #print(22)\n",
    "    #assum_nodes = np.sum(as_nodes_list, axis=0).tolist()\n",
    "    print('abab',len(y_nodes))\n",
    "    print('aa',len(as_nodes_list[0]))\n",
    "    assum_nodes = np.sum(as_nodes_list, axis=0)\n",
    "    print('bb',len(as_nodes_list[0]))\n",
    "    model_sum = ConcreteModel()\n",
    "    model_sum.y = Var(bounds=(new_lb, new_ub))\n",
    "    model_sum.As = Var()\n",
    "    model_sum.pw = Piecewise(\n",
    "        model_sum.As, model_sum.y,\n",
    "        pw_pts=y_nodes,\n",
    "        f_rule=list(assum_nodes),\n",
    "        pw_constr_type='EQ',\n",
    "        pw_repn='SOS2'\n",
    "    )\n",
    "    model_sum.obj = Objective(expr = model_sum.As, sense=minimize)\n",
    "    solver.solve(model_sum)\n",
    "    results = solver.solve(model_sum)\n",
    "    if (results.solver.status == SolverStatus.ok) and (results.solver.termination_condition == TerminationCondition.optimal):\n",
    "        pass\n",
    "    else:\n",
    "        print(\"bad bad bad\")\n",
    "    # get the output\n",
    "    errors = results.problem.lower_bound + sum(ms_list)\n",
    "    #errors = value(model_sum.obj) + sum(ms_list)\n",
    "    errors = -errors\n",
    "    \n",
    "    errors = -ms_list[0]\n",
    "    delta = (new_ub-new_lb)/2\n",
    "    \n",
    "    print('node is ',add_node_num)\n",
    "    print('error is ',errors)\n",
    "    print('')\n",
    "    print(' ')\n",
    "    \n",
    "    #return delta, errors, 1, 2  # diameter, error\n",
    "    return delta, errors, y_nodes, as_nodes_list[0], -ms_list[0], last_ynode"
   ]
  },
  {
   "cell_type": "code",
   "execution_count": 4,
   "id": "5496e860",
   "metadata": {},
   "outputs": [],
   "source": [
    "# build function for each scenario \n",
    "def v_1(y):  \n",
    "    if y < 5 or y > 20:\n",
    "        return float('inf')\n",
    "    elif 5 <= y < 6.53:\n",
    "        return 2.5 * y - 10 * (2 * y - 10)\n",
    "    else:\n",
    "        return 2.5 * y - 10 * 20 / y\n",
    "\n",
    "\n",
    "def v_2(y): \n",
    "    if y < 2.22 or y > 20:\n",
    "        return float('inf')\n",
    "    elif 2.22 <= y < 3.49:\n",
    "        return 2.5 * y - 20 * (4.5 * y - 10)\n",
    "    else:\n",
    "        return 2.5 * y - 20 * 20 / y\n",
    "\n",
    "v_list = [v_1, v_2]\n",
    "\n",
    "# set up parameters and solvers\n",
    "n_samples = 10\n",
    "add_node_num=5\n",
    "ylb = 6\n",
    "yub = 15\n",
    "tolerance=1e-9\n",
    "\n",
    "m1 = ConcreteModel()\n",
    "m1.y = Var(bounds=(ylb, yub))\n",
    "m1.x1 = Var(bounds=(0, None))        ##################################\n",
    "m1.c1 = Constraint(expr= 2*m1.y-m1.x1>=10)\n",
    "m1.c2 = Constraint(expr= m1.x1 * m1.y<=20)\n",
    "#m1.c3 = Constraint(expr= 2*sqrt(m1.x1+5)*log(m1.x1+2) <= 35)\n",
    "m1.obj_expr = Expression(expr=2.5*m1.y - 10*m1.x1)"
   ]
  },
  {
   "cell_type": "code",
   "execution_count": 5,
   "id": "f1df4852",
   "metadata": {
    "scrolled": false
   },
   "outputs": [
    {
     "name": "stdout",
     "output_type": "stream",
     "text": [
      "Add node is  0\n",
      "Solving scenario  0\n",
      "ERROR: Solver (gurobi) returned non-zero return code (1)\n",
      "ERROR: Solver log: Traceback (most recent call last):\n",
      "      File \"<stdin>\", line 5, in <module> File \"D:\\Anaconda\\lib\\site-\n",
      "      packages\\pyomo\\solvers\\plugins\\solvers\\GUROBI_RUN.py\", line 62, in\n",
      "      gurobi_run\n",
      "        model = read(model_file)\n",
      "                ^^^^^^^^^^^^^^^^\n",
      "      File \"src\\\\gurobipy\\\\gurobi.pxi\", line 336, in gurobipy._core.read File\n",
      "      \"src\\\\gurobipy\\\\gurobi.pxi\", line 116, in gurobipy._core.gurobi.read\n",
      "      File \"src\\\\gurobipy\\\\gurobi.pxi\", line 60, in\n",
      "      gurobipy._core.gurobi._getdefaultenv File \"src\\\\gurobipy\\\\env.pxi\", line\n",
      "      108, in gurobipy._core.Env.__init__\n",
      "    gurobipy._exception.GurobiError: No Gurobi license found (user pc, host\n",
      "    DESKTOP-PPPCF27, hostid 3ef6820a, cores 10)\n"
     ]
    },
    {
     "ename": "ApplicationError",
     "evalue": "Solver (gurobi) did not exit normally",
     "output_type": "error",
     "traceback": [
      "\u001b[1;31m---------------------------------------------------------------------------\u001b[0m",
      "\u001b[1;31mApplicationError\u001b[0m                          Traceback (most recent call last)",
      "\u001b[1;32m~\\AppData\\Local\\Temp\\ipykernel_110828\\2919131136.py\u001b[0m in \u001b[0;36m<module>\u001b[1;34m\u001b[0m\n\u001b[0;32m      4\u001b[0m \u001b[1;31m#adds = np.array([11,12,13,14,15,16])\u001b[0m\u001b[1;33m\u001b[0m\u001b[1;33m\u001b[0m\u001b[0m\n\u001b[0;32m      5\u001b[0m \u001b[1;31m#adds = np.array([15,16,17,18])\u001b[0m\u001b[1;33m\u001b[0m\u001b[1;33m\u001b[0m\u001b[0m\n\u001b[1;32m----> 6\u001b[1;33m \u001b[0mresults\u001b[0m \u001b[1;33m=\u001b[0m \u001b[1;33m[\u001b[0m\u001b[0mnc_underest\u001b[0m\u001b[1;33m(\u001b[0m\u001b[0mylb\u001b[0m\u001b[1;33m,\u001b[0m\u001b[0myub\u001b[0m\u001b[1;33m,\u001b[0m\u001b[0mv_list\u001b[0m\u001b[1;33m,\u001b[0m\u001b[1;33m[\u001b[0m\u001b[0mm1\u001b[0m\u001b[1;33m,\u001b[0m\u001b[0mm1\u001b[0m\u001b[1;33m]\u001b[0m\u001b[1;33m,\u001b[0m\u001b[0ma\u001b[0m\u001b[1;33m)\u001b[0m \u001b[1;32mfor\u001b[0m \u001b[0ma\u001b[0m \u001b[1;32min\u001b[0m \u001b[0madds\u001b[0m\u001b[1;33m]\u001b[0m\u001b[1;33m\u001b[0m\u001b[1;33m\u001b[0m\u001b[0m\n\u001b[0m",
      "\u001b[1;32m~\\AppData\\Local\\Temp\\ipykernel_110828\\2919131136.py\u001b[0m in \u001b[0;36m<listcomp>\u001b[1;34m(.0)\u001b[0m\n\u001b[0;32m      4\u001b[0m \u001b[1;31m#adds = np.array([11,12,13,14,15,16])\u001b[0m\u001b[1;33m\u001b[0m\u001b[1;33m\u001b[0m\u001b[0m\n\u001b[0;32m      5\u001b[0m \u001b[1;31m#adds = np.array([15,16,17,18])\u001b[0m\u001b[1;33m\u001b[0m\u001b[1;33m\u001b[0m\u001b[0m\n\u001b[1;32m----> 6\u001b[1;33m \u001b[0mresults\u001b[0m \u001b[1;33m=\u001b[0m \u001b[1;33m[\u001b[0m\u001b[0mnc_underest\u001b[0m\u001b[1;33m(\u001b[0m\u001b[0mylb\u001b[0m\u001b[1;33m,\u001b[0m\u001b[0myub\u001b[0m\u001b[1;33m,\u001b[0m\u001b[0mv_list\u001b[0m\u001b[1;33m,\u001b[0m\u001b[1;33m[\u001b[0m\u001b[0mm1\u001b[0m\u001b[1;33m,\u001b[0m\u001b[0mm1\u001b[0m\u001b[1;33m]\u001b[0m\u001b[1;33m,\u001b[0m\u001b[0ma\u001b[0m\u001b[1;33m)\u001b[0m \u001b[1;32mfor\u001b[0m \u001b[0ma\u001b[0m \u001b[1;32min\u001b[0m \u001b[0madds\u001b[0m\u001b[1;33m]\u001b[0m\u001b[1;33m\u001b[0m\u001b[1;33m\u001b[0m\u001b[0m\n\u001b[0m",
      "\u001b[1;32m~\\AppData\\Local\\Temp\\ipykernel_110828\\1784531714.py\u001b[0m in \u001b[0;36mnc_underest\u001b[1;34m(new_lb, new_ub, v_list, model_list, add_node_num, n_samples, tolerance)\u001b[0m\n\u001b[0;32m     68\u001b[0m \u001b[1;33m\u001b[0m\u001b[0m\n\u001b[0;32m     69\u001b[0m             \u001b[0mmodel_list\u001b[0m\u001b[1;33m[\u001b[0m\u001b[0mi\u001b[0m\u001b[1;33m]\u001b[0m\u001b[1;33m.\u001b[0m\u001b[0mobj\u001b[0m \u001b[1;33m=\u001b[0m \u001b[0mObjective\u001b[0m\u001b[1;33m(\u001b[0m\u001b[0mexpr\u001b[0m\u001b[1;33m=\u001b[0m\u001b[0mmodel_list\u001b[0m\u001b[1;33m[\u001b[0m\u001b[0mi\u001b[0m\u001b[1;33m]\u001b[0m\u001b[1;33m.\u001b[0m\u001b[0mobj_expr\u001b[0m \u001b[1;33m-\u001b[0m \u001b[0mmodel_list\u001b[0m\u001b[1;33m[\u001b[0m\u001b[0mi\u001b[0m\u001b[1;33m]\u001b[0m\u001b[1;33m.\u001b[0m\u001b[0mAs\u001b[0m\u001b[1;33m,\u001b[0m \u001b[0msense\u001b[0m\u001b[1;33m=\u001b[0m\u001b[0mminimize\u001b[0m\u001b[1;33m)\u001b[0m\u001b[1;33m\u001b[0m\u001b[1;33m\u001b[0m\u001b[0m\n\u001b[1;32m---> 70\u001b[1;33m             \u001b[0mresults\u001b[0m \u001b[1;33m=\u001b[0m \u001b[0msolver\u001b[0m\u001b[1;33m.\u001b[0m\u001b[0msolve\u001b[0m\u001b[1;33m(\u001b[0m\u001b[0mmodel_list\u001b[0m\u001b[1;33m[\u001b[0m\u001b[0mi\u001b[0m\u001b[1;33m]\u001b[0m\u001b[1;33m)\u001b[0m\u001b[1;33m\u001b[0m\u001b[1;33m\u001b[0m\u001b[0m\n\u001b[0m\u001b[0;32m     71\u001b[0m             \u001b[0mms_list\u001b[0m\u001b[1;33m[\u001b[0m\u001b[0mi\u001b[0m\u001b[1;33m]\u001b[0m \u001b[1;33m=\u001b[0m \u001b[0mresults\u001b[0m\u001b[1;33m.\u001b[0m\u001b[0mproblem\u001b[0m\u001b[1;33m.\u001b[0m\u001b[0mlower_bound\u001b[0m\u001b[1;33m\u001b[0m\u001b[1;33m\u001b[0m\u001b[0m\n\u001b[0;32m     72\u001b[0m \u001b[1;33m\u001b[0m\u001b[0m\n",
      "\u001b[1;32mD:\\Anaconda\\lib\\site-packages\\pyomo\\opt\\base\\solvers.py\u001b[0m in \u001b[0;36msolve\u001b[1;34m(self, *args, **kwds)\u001b[0m\n\u001b[0;32m    594\u001b[0m                 \u001b[1;32melif\u001b[0m \u001b[0mhasattr\u001b[0m\u001b[1;33m(\u001b[0m\u001b[0m_status\u001b[0m\u001b[1;33m,\u001b[0m \u001b[1;34m'log'\u001b[0m\u001b[1;33m)\u001b[0m \u001b[1;32mand\u001b[0m \u001b[0m_status\u001b[0m\u001b[1;33m.\u001b[0m\u001b[0mlog\u001b[0m\u001b[1;33m:\u001b[0m\u001b[1;33m\u001b[0m\u001b[1;33m\u001b[0m\u001b[0m\n\u001b[0;32m    595\u001b[0m                     \u001b[0mlogger\u001b[0m\u001b[1;33m.\u001b[0m\u001b[0merror\u001b[0m\u001b[1;33m(\u001b[0m\u001b[1;34m\"Solver log:\\n\"\u001b[0m \u001b[1;33m+\u001b[0m \u001b[0mstr\u001b[0m\u001b[1;33m(\u001b[0m\u001b[0m_status\u001b[0m\u001b[1;33m.\u001b[0m\u001b[0mlog\u001b[0m\u001b[1;33m)\u001b[0m\u001b[1;33m)\u001b[0m\u001b[1;33m\u001b[0m\u001b[1;33m\u001b[0m\u001b[0m\n\u001b[1;32m--> 596\u001b[1;33m                 raise ApplicationError(\n\u001b[0m\u001b[0;32m    597\u001b[0m                     \"Solver (%s) did not exit normally\" % self.name)\n\u001b[0;32m    598\u001b[0m             \u001b[0msolve_completion_time\u001b[0m \u001b[1;33m=\u001b[0m \u001b[0mtime\u001b[0m\u001b[1;33m.\u001b[0m\u001b[0mtime\u001b[0m\u001b[1;33m(\u001b[0m\u001b[1;33m)\u001b[0m\u001b[1;33m\u001b[0m\u001b[1;33m\u001b[0m\u001b[0m\n",
      "\u001b[1;31mApplicationError\u001b[0m: Solver (gurobi) did not exit normally"
     ]
    }
   ],
   "source": [
    "# make delta list\n",
    "##deltas = np.array([1, 1e-1, 1e-2,1e-03, 1e-4, 1e-5])\n",
    "adds = np.arange(1, 4)\n",
    "#adds = np.array([11,12,13,14,15,16])\n",
    "#adds = np.array([15,16,17,18])\n",
    "results = [nc_underest(ylb,yub,v_list,[m1,m1],a) for a in adds]"
   ]
  },
  {
   "cell_type": "code",
   "execution_count": 190,
   "id": "2a6a6c7e",
   "metadata": {
    "scrolled": false
   },
   "outputs": [
    {
     "name": "stdout",
     "output_type": "stream",
     "text": [
      "   \n",
      "   \n",
      "   \n",
      "add num  0\n",
      "y node is  [ 6.          6.53112887  8.25       10.5        12.75       15.        ]\n",
      "y node length 6\n",
      "as_nodes is  [ -5.         -14.2947553   -3.61742424   7.20238095  16.18872549\n",
      "  24.16666667]\n",
      "yas_nodes length 6\n",
      "ms value is  3.938252390867092e-09\n",
      "y_opt value is  6.530072882389898\n",
      "   \n",
      "   \n",
      "   \n",
      "add num  1\n",
      "y node is  [ 6.          6.53007288  6.53112887  8.25       10.5        12.75\n",
      " 15.        ]\n",
      "y node length 7\n",
      "as_nodes is  [ -5.         -14.30234732 -14.2947553   -3.61742424   7.20238095\n",
      "  16.18872549  24.16666667]\n",
      "yas_nodes length 7\n",
      "ms value is  3.753001601291048e-09\n",
      "y_opt value is  8.24999999968014\n",
      "   \n",
      "   \n",
      "   \n",
      "add num  2\n",
      "y node is  [ 6.          6.53007288  6.53112887  8.25        8.25       10.5\n",
      " 12.75       15.        ]\n",
      "y node length 8\n",
      "as_nodes is  [ -5.         -14.30234732 -14.2947553   -3.61742424  -3.61742424\n",
      "   7.20238095  16.18872549  24.16666667]\n",
      "yas_nodes length 8\n",
      "ms value is  6.050644429933527e-09\n",
      "y_opt value is  6.531128873467436\n"
     ]
    },
    {
     "data": {
      "image/png": "[encoded data removed]",
      "text/plain": [
       "<Figure size 576x360 with 1 Axes>"
      ]
     },
     "metadata": {
      "needs_background": "light"
     },
     "output_type": "display_data"
    },
    {
     "data": {
      "image/png": "[encoded data removed]",
      "text/plain": [
       "<Figure size 576x360 with 1 Axes>"
      ]
     },
     "metadata": {
      "needs_background": "light"
     },
     "output_type": "display_data"
    },
    {
     "data": {
      "image/png": "[encoded data removed]",
      "text/plain": [
       "<Figure size 576x360 with 1 Axes>"
      ]
     },
     "metadata": {
      "needs_background": "light"
     },
     "output_type": "display_data"
    }
   ],
   "source": [
    "for i in range(len(results)):\n",
    "    # y and z = |y|\n",
    "    y_vals = np.linspace(ylb, yub, 100)\n",
    "    Qs_vals = [v_list[0](y) for y in y_vals]\n",
    "\n",
    "    # As(y)\n",
    "    y_nodes = np.array(results[i][2])\n",
    "    as_nodes = np.array(results[i][3])\n",
    "    aaa = y_nodes\n",
    "    bbb = as_nodes\n",
    "    bbb2 = np.array(bbb)\n",
    "    ccc = results[i][4]\n",
    "    \n",
    "    print(\"   \")\n",
    "    print(\"   \")\n",
    "    print(\"   \")\n",
    "    print('add num ',i)\n",
    "    print('y node is ',y_nodes)\n",
    "    print('y node length',len(y_nodes))\n",
    "    print('as_nodes is ',as_nodes)\n",
    "    print('yas_nodes length',len(as_nodes))\n",
    "    print(\"ms value is \",results[i][4])\n",
    "    print(\"y_opt value is \",results[i][5])\n",
    "\n",
    "    # make the plot\n",
    "    plt.figure(figsize=(8, 5))\n",
    "    plt.plot(y_vals, Qs_vals, label=r'$Q_s(y) = -\\sqrt{|y|}$', color='red')\n",
    "    plt.plot(aaa, bbb2, label=r'$A_s(y)$ (underestimator)', color='blue', linestyle='--')\n",
    "    plt.plot(aaa, bbb2+ccc, 'o')\n",
    "    plt.plot(aaa, bbb2+ccc, color='green', linestyle=':')\n",
    "    plt.xlabel('y')\n",
    "    plt.ylabel('value')\n",
    "    #plt.title('Correct: $A_s(y) + m_s$ is a global underestimator of $Q_s(y)$')\n",
    "    plt.title(f\"Plot for {i:.1f} add nodes\")\n",
    "    plt.legend()\n",
    "    plt.grid(True)\n",
    "    plt.tight_layout()\n",
    "    \n",
    "    \n",
    "\n",
    "\n",
    "\n",
    "plt.show()"
   ]
  },
  {
   "cell_type": "code",
   "execution_count": 191,
   "id": "a33646b3",
   "metadata": {},
   "outputs": [
    {
     "data": {
      "image/png": "[encoded data removed]",
      "text/plain": [
       "<Figure size 576x360 with 1 Axes>"
      ]
     },
     "metadata": {
      "needs_background": "light"
     },
     "output_type": "display_data"
    }
   ],
   "source": [
    "plt.figure(figsize=(8, 5))\n",
    "errors = [item[1] for item in results]\n",
    "plt.plot(adds, np.log(errors), label=r'$Q_s(y) = -\\sqrt{|y|}$', color='red')\n",
    "\n",
    "plt.xlabel('add node num')\n",
    "plt.ylabel('error')\n",
    "#plt.title(f\"Plot for {0:.1f} add nodes\")\n",
    "plt.legend()\n",
    "plt.grid(True)\n",
    "#plt.xlim(-0.2, 0.2)  \n",
    "#plt.ylim(-0.5, 0)  \n",
    "\n",
    "plt.tight_layout()"
   ]
  },
  {
   "cell_type": "code",
   "execution_count": null,
   "id": "3c85d86a",
   "metadata": {},
   "outputs": [],
   "source": []
  },
  {
   "cell_type": "code",
   "execution_count": null,
   "id": "080a6c0b",
   "metadata": {},
   "outputs": [],
   "source": []
  },
  {
   "cell_type": "code",
   "execution_count": null,
   "id": "0b75b8fd",
   "metadata": {},
   "outputs": [],
   "source": []
  },
  {
   "cell_type": "code",
   "execution_count": null,
   "id": "26ee23a2",
   "metadata": {},
   "outputs": [],
   "source": []
  },
  {
   "cell_type": "code",
   "execution_count": null,
   "id": "88811d5a",
   "metadata": {},
   "outputs": [],
   "source": [
    "results = solverscip.solve(m1)\n",
    "ccc = results.problem.lower_bound\n",
    "ccc"
   ]
  },
  {
   "cell_type": "code",
   "execution_count": null,
   "id": "7c289a68",
   "metadata": {},
   "outputs": [],
   "source": [
    "# y and z = |y|\n",
    "y_vals = np.linspace(ylb, yub, 1001)\n",
    "Qs_vals = [v_1(y) for y in y_vals]\n",
    "\n",
    "#print(\"ms value is \",results[i][4])\n",
    "#print(\"y_opt value is \",results[i][5])\n",
    "#z_nodes = abs(y_nodes)\n",
    "#as_nodes = np.sqrt(z_nodes)\n",
    "aaa = y_nodes\n",
    "bbb = as_nodes\n",
    "bbb2 = np.array(bbb)\n",
    "#As_vals2 = np.interp(z_vals, aaa, bbb2)\n",
    "#As_shifted_vals2 = As_vals2 + ccc\n",
    "\n",
    "# make the plot\n",
    "plt.figure(figsize=(8, 5))\n",
    "plt.plot(y_vals, Qs_vals, label=r'$Q_s(y) = -\\sqrt{|y|}$', color='red')\n",
    "#plt.plot(y_vals, As_vals2, label=r'$A_s(y)$ (underestimator)', color='blue', linestyle='--')\n",
    "plt.plot(aaa, bbb2, label=r'$A_s(y)$ (underestimator)', color='blue', linestyle='--')\n",
    "#plt.plot(y_vals, As_shifted_vals2, label=r'$A_s(y) + m_s$', color='green', linestyle=':')\n",
    "plt.plot(aaa, bbb2+ccc, 'o')\n",
    "plt.plot(aaa, bbb2+ccc, color='green', linestyle=':')\n",
    "plt.xlabel('y')\n",
    "plt.ylabel('value')\n",
    "#plt.title('Correct: $A_s(y) + m_s$ is a global underestimator of $Q_s(y)$')\n",
    "plt.title(f\"Plot for {0:.1f} add nodes\")\n",
    "plt.legend()\n",
    "plt.grid(True)\n",
    "#plt.xlim(-0.2, 0.2)  \n",
    "#plt.ylim(-0.5, 0)  \n",
    "\n",
    "plt.tight_layout()"
   ]
  },
  {
   "cell_type": "code",
   "execution_count": null,
   "id": "c7d6ed46",
   "metadata": {},
   "outputs": [],
   "source": []
  },
  {
   "cell_type": "code",
   "execution_count": null,
   "id": "a105f3ed",
   "metadata": {},
   "outputs": [],
   "source": []
  },
  {
   "cell_type": "code",
   "execution_count": null,
   "id": "fa1c10e2",
   "metadata": {},
   "outputs": [],
   "source": []
  },
  {
   "cell_type": "code",
   "execution_count": null,
   "id": "2d40807b",
   "metadata": {},
   "outputs": [],
   "source": []
  },
  {
   "cell_type": "code",
   "execution_count": null,
   "id": "1b9689fc",
   "metadata": {},
   "outputs": [],
   "source": []
  },
  {
   "cell_type": "code",
   "execution_count": null,
   "id": "4669f24c",
   "metadata": {},
   "outputs": [],
   "source": []
  },
  {
   "cell_type": "code",
   "execution_count": null,
   "id": "7492b17d",
   "metadata": {},
   "outputs": [],
   "source": []
  },
  {
   "cell_type": "code",
   "execution_count": null,
   "id": "f3510c49",
   "metadata": {},
   "outputs": [],
   "source": []
  },
  {
   "cell_type": "code",
   "execution_count": null,
   "id": "b4bd127e",
   "metadata": {},
   "outputs": [],
   "source": []
  },
  {
   "cell_type": "code",
   "execution_count": null,
   "id": "bd6d39f7",
   "metadata": {},
   "outputs": [],
   "source": []
  },
  {
   "cell_type": "code",
   "execution_count": null,
   "id": "f6737475",
   "metadata": {},
   "outputs": [],
   "source": []
  },
  {
   "cell_type": "code",
   "execution_count": null,
   "id": "a5b63f8f",
   "metadata": {},
   "outputs": [],
   "source": []
  },
  {
   "cell_type": "code",
   "execution_count": null,
   "id": "93a94530",
   "metadata": {},
   "outputs": [],
   "source": []
  },
  {
   "cell_type": "code",
   "execution_count": null,
   "id": "7554c9e0",
   "metadata": {},
   "outputs": [],
   "source": []
  }
 ],
 "metadata": {
  "kernelspec": {
   "display_name": "Python 3 (ipykernel)",
   "language": "python",
   "name": "python3"
  },
  "language_info": {
   "codemirror_mode": {
    "name": "ipython",
    "version": 3
   },
   "file_extension": ".py",
   "mimetype": "text/x-python",
   "name": "python",
   "nbconvert_exporter": "python",
   "pygments_lexer": "ipython3",
   "version": "3.9.13"
  }
 },
 "nbformat": 4,
 "nbformat_minor": 5
}
