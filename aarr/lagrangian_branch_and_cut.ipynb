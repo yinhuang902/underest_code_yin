{
 "cells": [
  {
   "cell_type": "code",
   "execution_count": 5,
   "id": "2c9bc04f",
   "metadata": {},
   "outputs": [],
   "source": [
    "from pyomo.environ import * \n",
    "from pyomo.opt import SolverFactory\n",
    "import numpy as np\n",
    "import matplotlib.pyplot as plt"
   ]
  },
  {
   "cell_type": "code",
   "execution_count": 8,
   "id": "55cc00bb",
   "metadata": {},
   "outputs": [],
   "source": [
    "def lagrangian_branch_and_cut(scenario_models, initial_multipliers, UB=10, max_iter=10, tolerance=1e-3):\n",
    "    \"\"\"\n",
    "    Parameters:\n",
    "        scenario_models (list): model for each scenario\n",
    "        initial_multipliers (dict): [lambdas_x:xxx,lambdas_y:yyy]\n",
    "        UB (float): current upper bound\n",
    "        max_iter (float): maximum iteration times\n",
    "        tolerance (float): decide when to stop\n",
    "\n",
    "    Returns: LB (float): the calculated lower bound\n",
    "    \"\"\"\n",
    "    N = len(scenario_models)\n",
    "    lambdas_x = initial_multipliers['lambda_x']\n",
    "    lambdas_y = initial_multipliers['lambda_y']\n",
    "\n",
    "    def scenario_objective(n, submodel, x_n, y_n, lambdas_x, lambdas_y):\n",
    "        # Lagrangean penalty terms\n",
    "        lx = lambdas_x[n - 1] if n <= N - 1 else 0\n",
    "        lx_prev = lambdas_x[n - 2] if n > 1 else 0\n",
    "        ly = lambdas_y[n - 1] if n <= N - 1 else 0\n",
    "        ly_prev = lambdas_y[n - 2] if n > 1 else 0\n",
    "        weight = 1 / N\n",
    "        return weight * submodel.obj_base + (lx - lx_prev) * x_n + (ly - ly_prev) * y_n\n",
    "\n",
    "    for _ in range(max_iter):\n",
    "        model = ConcreteModel()\n",
    "        model.N = RangeSet(1, N)\n",
    "        model.x = Var(model.N, within=Reals, bounds=(0, 10)) #fix the bound here!\n",
    "        model.y = Var(model.N, within=Binary)                #fix the bound here!\n",
    "        model.submodels = Block(model.N)\n",
    "\n",
    "        for n in model.N:\n",
    "            model.submodels[n].transfer_attributes_from(scenario_models[n-1])\n",
    "\n",
    "        def coupling_x_rule(m, n):\n",
    "            if n < N:\n",
    "                return m.x[n] == m.x[n+1]\n",
    "            return Constraint.Skip\n",
    "        model.couple_x = Constraint(model.N, rule=coupling_x_rule)\n",
    "\n",
    "        def coupling_y_rule(m, n):\n",
    "            if n < N:\n",
    "                return m.y[n] == m.y[n+1]\n",
    "            return Constraint.Skip\n",
    "        model.couple_y = Constraint(model.N, rule=coupling_y_rule)\n",
    "\n",
    "        model.obj = Objective(expr=sum(\n",
    "            scenario_objective(n, model.submodels[n], model.x[n], model.y[n], lambdas_x, lambdas_y)\n",
    "            for n in model.N\n",
    "        ), sense=minimize)\n",
    "\n",
    "        solver = SolverFactory('scip', executable='/Users/yinhuang/miniconda3/bin/scip')\n",
    "        solver.solve(model)\n",
    "\n",
    "        # get x_n, y_n values from solution\n",
    "        x_vals = [value(model.x[n]) for n in model.N]\n",
    "        y_vals = [value(model.y[n]) for n in model.N]\n",
    "        LB = value(model.obj)\n",
    "\n",
    "        # update lambda\n",
    "        denom = sum((x_vals[n] - x_vals[n+1])**2 + (y_vals[n] - y_vals[n+1])**2 for n in range(N - 1))\n",
    "        step = 0.5 * (UB - LB) / denom if denom > 1e-8 else 0.0\n",
    "        lambdas_x = [lambdas_x[n] + step * (x_vals[n] - x_vals[n+1]) for n in range(N - 1)]\n",
    "        lambdas_y = [lambdas_y[n] + step * (y_vals[n] - y_vals[n+1]) for n in range(N - 1)]\n",
    "\n",
    "        # convergence check\n",
    "        gap = (UB - LB) / UB if UB != 0 else float('inf')\n",
    "        if gap <= tolerance:\n",
    "            break\n",
    "\n",
    "    return LB\n"
   ]
  },
  {
   "cell_type": "code",
   "execution_count": 9,
   "id": "26576c74",
   "metadata": {},
   "outputs": [
    {
     "ename": "AttributeError",
     "evalue": "'BlockData' object has no attribute 'obj_base'",
     "output_type": "error",
     "traceback": [
      "\u001b[0;31m---------------------------------------------------------------------------\u001b[0m",
      "\u001b[0;31mAttributeError\u001b[0m                            Traceback (most recent call last)",
      "Input \u001b[0;32mIn [9]\u001b[0m, in \u001b[0;36m<cell line: 17>\u001b[0;34m()\u001b[0m\n\u001b[1;32m     15\u001b[0m scenario_models \u001b[38;5;241m=\u001b[39m [build_scenario_model() \u001b[38;5;28;01mfor\u001b[39;00m _ \u001b[38;5;129;01min\u001b[39;00m \u001b[38;5;28mrange\u001b[39m(N)]\n\u001b[1;32m     16\u001b[0m initial_multipliers \u001b[38;5;241m=\u001b[39m {\u001b[38;5;124m'\u001b[39m\u001b[38;5;124mlambda_x\u001b[39m\u001b[38;5;124m'\u001b[39m: [\u001b[38;5;241m0.0\u001b[39m \u001b[38;5;28;01mfor\u001b[39;00m _ \u001b[38;5;129;01min\u001b[39;00m \u001b[38;5;28mrange\u001b[39m(N\u001b[38;5;241m-\u001b[39m\u001b[38;5;241m1\u001b[39m)], \u001b[38;5;124m'\u001b[39m\u001b[38;5;124mlambda_y\u001b[39m\u001b[38;5;124m'\u001b[39m: [\u001b[38;5;241m0.0\u001b[39m \u001b[38;5;28;01mfor\u001b[39;00m _ \u001b[38;5;129;01min\u001b[39;00m \u001b[38;5;28mrange\u001b[39m(N\u001b[38;5;241m-\u001b[39m\u001b[38;5;241m1\u001b[39m)]}\n\u001b[0;32m---> 17\u001b[0m opt_value \u001b[38;5;241m=\u001b[39m \u001b[43mlagrangian_branch_and_cut\u001b[49m\u001b[43m(\u001b[49m\u001b[43mscenario_models\u001b[49m\u001b[43m,\u001b[49m\u001b[43m \u001b[49m\u001b[43minitial_multipliers\u001b[49m\u001b[43m)\u001b[49m\n\u001b[1;32m     18\u001b[0m \u001b[38;5;28mprint\u001b[39m(\u001b[38;5;124m\"\u001b[39m\u001b[38;5;124mOptimized lower bound:\u001b[39m\u001b[38;5;124m\"\u001b[39m, opt_value)\n",
      "Input \u001b[0;32mIn [8]\u001b[0m, in \u001b[0;36mlagrangian_branch_and_cut\u001b[0;34m(scenario_models, initial_multipliers, UB, max_iter, tolerance)\u001b[0m\n\u001b[1;32m     44\u001b[0m     \u001b[38;5;28;01mreturn\u001b[39;00m Constraint\u001b[38;5;241m.\u001b[39mSkip\n\u001b[1;32m     45\u001b[0m model\u001b[38;5;241m.\u001b[39mcouple_y \u001b[38;5;241m=\u001b[39m Constraint(model\u001b[38;5;241m.\u001b[39mN, rule\u001b[38;5;241m=\u001b[39mcoupling_y_rule)\n\u001b[0;32m---> 47\u001b[0m model\u001b[38;5;241m.\u001b[39mobj \u001b[38;5;241m=\u001b[39m Objective(expr\u001b[38;5;241m=\u001b[39m\u001b[38;5;28;43msum\u001b[39;49m\u001b[43m(\u001b[49m\n\u001b[1;32m     48\u001b[0m \u001b[43m    \u001b[49m\u001b[43mscenario_objective\u001b[49m\u001b[43m(\u001b[49m\u001b[43mn\u001b[49m\u001b[43m,\u001b[49m\u001b[43m \u001b[49m\u001b[43mmodel\u001b[49m\u001b[38;5;241;43m.\u001b[39;49m\u001b[43msubmodels\u001b[49m\u001b[43m[\u001b[49m\u001b[43mn\u001b[49m\u001b[43m]\u001b[49m\u001b[43m,\u001b[49m\u001b[43m \u001b[49m\u001b[43mmodel\u001b[49m\u001b[38;5;241;43m.\u001b[39;49m\u001b[43mx\u001b[49m\u001b[43m[\u001b[49m\u001b[43mn\u001b[49m\u001b[43m]\u001b[49m\u001b[43m,\u001b[49m\u001b[43m \u001b[49m\u001b[43mmodel\u001b[49m\u001b[38;5;241;43m.\u001b[39;49m\u001b[43my\u001b[49m\u001b[43m[\u001b[49m\u001b[43mn\u001b[49m\u001b[43m]\u001b[49m\u001b[43m,\u001b[49m\u001b[43m \u001b[49m\u001b[43mlambdas_x\u001b[49m\u001b[43m,\u001b[49m\u001b[43m \u001b[49m\u001b[43mlambdas_y\u001b[49m\u001b[43m)\u001b[49m\n\u001b[1;32m     49\u001b[0m \u001b[43m    \u001b[49m\u001b[38;5;28;43;01mfor\u001b[39;49;00m\u001b[43m \u001b[49m\u001b[43mn\u001b[49m\u001b[43m \u001b[49m\u001b[38;5;129;43;01min\u001b[39;49;00m\u001b[43m \u001b[49m\u001b[43mmodel\u001b[49m\u001b[38;5;241;43m.\u001b[39;49m\u001b[43mN\u001b[49m\n\u001b[1;32m     50\u001b[0m \u001b[43m\u001b[49m\u001b[43m)\u001b[49m, sense\u001b[38;5;241m=\u001b[39mminimize)\n\u001b[1;32m     52\u001b[0m solver \u001b[38;5;241m=\u001b[39m SolverFactory(\u001b[38;5;124m'\u001b[39m\u001b[38;5;124mscip\u001b[39m\u001b[38;5;124m'\u001b[39m, executable\u001b[38;5;241m=\u001b[39m\u001b[38;5;124m'\u001b[39m\u001b[38;5;124m/Users/yinhuang/miniconda3/bin/scip\u001b[39m\u001b[38;5;124m'\u001b[39m)\n\u001b[1;32m     53\u001b[0m solver\u001b[38;5;241m.\u001b[39msolve(model)\n",
      "Input \u001b[0;32mIn [8]\u001b[0m, in \u001b[0;36m<genexpr>\u001b[0;34m(.0)\u001b[0m\n\u001b[1;32m     44\u001b[0m     \u001b[38;5;28;01mreturn\u001b[39;00m Constraint\u001b[38;5;241m.\u001b[39mSkip\n\u001b[1;32m     45\u001b[0m model\u001b[38;5;241m.\u001b[39mcouple_y \u001b[38;5;241m=\u001b[39m Constraint(model\u001b[38;5;241m.\u001b[39mN, rule\u001b[38;5;241m=\u001b[39mcoupling_y_rule)\n\u001b[1;32m     47\u001b[0m model\u001b[38;5;241m.\u001b[39mobj \u001b[38;5;241m=\u001b[39m Objective(expr\u001b[38;5;241m=\u001b[39m\u001b[38;5;28msum\u001b[39m(\n\u001b[0;32m---> 48\u001b[0m     \u001b[43mscenario_objective\u001b[49m\u001b[43m(\u001b[49m\u001b[43mn\u001b[49m\u001b[43m,\u001b[49m\u001b[43m \u001b[49m\u001b[43mmodel\u001b[49m\u001b[38;5;241;43m.\u001b[39;49m\u001b[43msubmodels\u001b[49m\u001b[43m[\u001b[49m\u001b[43mn\u001b[49m\u001b[43m]\u001b[49m\u001b[43m,\u001b[49m\u001b[43m \u001b[49m\u001b[43mmodel\u001b[49m\u001b[38;5;241;43m.\u001b[39;49m\u001b[43mx\u001b[49m\u001b[43m[\u001b[49m\u001b[43mn\u001b[49m\u001b[43m]\u001b[49m\u001b[43m,\u001b[49m\u001b[43m \u001b[49m\u001b[43mmodel\u001b[49m\u001b[38;5;241;43m.\u001b[39;49m\u001b[43my\u001b[49m\u001b[43m[\u001b[49m\u001b[43mn\u001b[49m\u001b[43m]\u001b[49m\u001b[43m,\u001b[49m\u001b[43m \u001b[49m\u001b[43mlambdas_x\u001b[49m\u001b[43m,\u001b[49m\u001b[43m \u001b[49m\u001b[43mlambdas_y\u001b[49m\u001b[43m)\u001b[49m\n\u001b[1;32m     49\u001b[0m     \u001b[38;5;28;01mfor\u001b[39;00m n \u001b[38;5;129;01min\u001b[39;00m model\u001b[38;5;241m.\u001b[39mN\n\u001b[1;32m     50\u001b[0m ), sense\u001b[38;5;241m=\u001b[39mminimize)\n\u001b[1;32m     52\u001b[0m solver \u001b[38;5;241m=\u001b[39m SolverFactory(\u001b[38;5;124m'\u001b[39m\u001b[38;5;124mscip\u001b[39m\u001b[38;5;124m'\u001b[39m, executable\u001b[38;5;241m=\u001b[39m\u001b[38;5;124m'\u001b[39m\u001b[38;5;124m/Users/yinhuang/miniconda3/bin/scip\u001b[39m\u001b[38;5;124m'\u001b[39m)\n\u001b[1;32m     53\u001b[0m solver\u001b[38;5;241m.\u001b[39msolve(model)\n",
      "Input \u001b[0;32mIn [8]\u001b[0m, in \u001b[0;36mlagrangian_branch_and_cut.<locals>.scenario_objective\u001b[0;34m(n, submodel, x_n, y_n, lambdas_x, lambdas_y)\u001b[0m\n\u001b[1;32m     21\u001b[0m ly_prev \u001b[38;5;241m=\u001b[39m lambdas_y[n \u001b[38;5;241m-\u001b[39m \u001b[38;5;241m2\u001b[39m] \u001b[38;5;28;01mif\u001b[39;00m n \u001b[38;5;241m>\u001b[39m \u001b[38;5;241m1\u001b[39m \u001b[38;5;28;01melse\u001b[39;00m \u001b[38;5;241m0\u001b[39m\n\u001b[1;32m     22\u001b[0m weight \u001b[38;5;241m=\u001b[39m \u001b[38;5;241m1\u001b[39m \u001b[38;5;241m/\u001b[39m N\n\u001b[0;32m---> 23\u001b[0m \u001b[38;5;28;01mreturn\u001b[39;00m weight \u001b[38;5;241m*\u001b[39m \u001b[43msubmodel\u001b[49m\u001b[38;5;241;43m.\u001b[39;49m\u001b[43mobj_base\u001b[49m \u001b[38;5;241m+\u001b[39m (lx \u001b[38;5;241m-\u001b[39m lx_prev) \u001b[38;5;241m*\u001b[39m x_n \u001b[38;5;241m+\u001b[39m (ly \u001b[38;5;241m-\u001b[39m ly_prev) \u001b[38;5;241m*\u001b[39m y_n\n",
      "File \u001b[0;32m/opt/anaconda3/lib/python3.9/site-packages/pyomo/core/base/block.py:550\u001b[0m, in \u001b[0;36mBlockData.__getattr__\u001b[0;34m(self, val)\u001b[0m\n\u001b[1;32m    547\u001b[0m     \u001b[38;5;28;01mreturn\u001b[39;00m _component_decorator(\u001b[38;5;28mself\u001b[39m, ModelComponentFactory\u001b[38;5;241m.\u001b[39mget_class(val))\n\u001b[1;32m    548\u001b[0m \u001b[38;5;66;03m# Since the base classes don't support getattr, we can just\u001b[39;00m\n\u001b[1;32m    549\u001b[0m \u001b[38;5;66;03m# throw the \"normal\" AttributeError\u001b[39;00m\n\u001b[0;32m--> 550\u001b[0m \u001b[38;5;28;01mraise\u001b[39;00m \u001b[38;5;167;01mAttributeError\u001b[39;00m(\n\u001b[1;32m    551\u001b[0m     \u001b[38;5;124m\"\u001b[39m\u001b[38;5;124m'\u001b[39m\u001b[38;5;132;01m%s\u001b[39;00m\u001b[38;5;124m'\u001b[39m\u001b[38;5;124m object has no attribute \u001b[39m\u001b[38;5;124m'\u001b[39m\u001b[38;5;132;01m%s\u001b[39;00m\u001b[38;5;124m'\u001b[39m\u001b[38;5;124m\"\u001b[39m \u001b[38;5;241m%\u001b[39m (\u001b[38;5;28mself\u001b[39m\u001b[38;5;241m.\u001b[39m\u001b[38;5;18m__class__\u001b[39m\u001b[38;5;241m.\u001b[39m\u001b[38;5;18m__name__\u001b[39m, val)\n\u001b[1;32m    552\u001b[0m )\n",
      "\u001b[0;31mAttributeError\u001b[0m: 'BlockData' object has no attribute 'obj_base'"
     ]
    }
   ],
   "source": [
    "def build_scenario_model():\n",
    "    m = ConcreteModel()\n",
    "    m.x = Var(bounds=(0, 10))\n",
    "    m.y = Var(within=Binary)\n",
    "    m.u = Var(bounds=(0, 5))\n",
    "    m.v = Var(within=Binary)\n",
    "    m.con1 = Constraint(expr=m.u + m.v <= 4)\n",
    "    m.con2 = Constraint(expr=m.x >= m.u)\n",
    "    m.con3 = Constraint(expr=m.y >= m.v)\n",
    "    m.obj_base = Expression(expr=0.5 * m.x + m.y + m.u + 2 * m.v)\n",
    "    return m\n",
    "\n",
    "N = 3\n",
    "scenario_models = [build_scenario_model() for _ in range(N)]\n",
    "initial_multipliers = {'lambda_x': [0.0 for _ in range(N-1)], 'lambda_y': [0.0 for _ in range(N-1)]}\n",
    "opt_value = lagrangian_branch_and_cut(scenario_models, initial_multipliers)\n",
    "print(\"Optimized lower bound:\", opt_value)\n"
   ]
  },
  {
   "cell_type": "code",
   "execution_count": null,
   "id": "fbd4c063",
   "metadata": {},
   "outputs": [],
   "source": []
  },
  {
   "cell_type": "code",
   "execution_count": null,
   "id": "cf64cfcc",
   "metadata": {},
   "outputs": [],
   "source": []
  },
  {
   "cell_type": "code",
   "execution_count": null,
   "id": "5c2a8446",
   "metadata": {},
   "outputs": [],
   "source": []
  }
 ],
 "metadata": {
  "kernelspec": {
   "display_name": "Python 3 (ipykernel)",
   "language": "python",
   "name": "python3"
  },
  "language_info": {
   "codemirror_mode": {
    "name": "ipython",
    "version": 3
   },
   "file_extension": ".py",
   "mimetype": "text/x-python",
   "name": "python",
   "nbconvert_exporter": "python",
   "pygments_lexer": "ipython3",
   "version": "3.9.12"
  }
 },
 "nbformat": 4,
 "nbformat_minor": 5
}
