{
 "cells": [
  {
   "cell_type": "code",
   "execution_count": 4,
   "id": "5fc309a9-643b-4a72-9401-3cf21af6d217",
   "metadata": {},
   "outputs": [],
   "source": [
    "import import_ipynb\n",
    "from Untitled2 import *"
   ]
  },
  {
   "cell_type": "code",
   "execution_count": 6,
   "id": "3f41842b-2d78-46e8-b6ca-21b7ba7e41a6",
   "metadata": {},
   "outputs": [
    {
     "ename": "NameError",
     "evalue": "name 'f1' is not defined",
     "output_type": "error",
     "traceback": [
      "\u001b[1;31m---------------------------------------------------------------------------\u001b[0m",
      "\u001b[1;31mNameError\u001b[0m                                 Traceback (most recent call last)",
      "Cell \u001b[1;32mIn[6], line 1\u001b[0m\n\u001b[1;32m----> 1\u001b[0m f1(\u001b[38;5;241m2\u001b[39m)\n",
      "\u001b[1;31mNameError\u001b[0m: name 'f1' is not defined"
     ]
    }
   ],
   "source": [
    "f1(2)"
   ]
  },
  {
   "cell_type": "code",
   "execution_count": 7,
   "id": "31fc38ba-e15b-44b9-a7c5-27e3fb54269c",
   "metadata": {},
   "outputs": [
    {
     "ename": "AttributeError",
     "evalue": "'ModuleSpec' object has no attribute 'f1'",
     "output_type": "error",
     "traceback": [
      "\u001b[1;31m---------------------------------------------------------------------------\u001b[0m",
      "\u001b[1;31mAttributeError\u001b[0m                            Traceback (most recent call last)",
      "Cell \u001b[1;32mIn[7], line 4\u001b[0m\n\u001b[0;32m      1\u001b[0m \u001b[38;5;28;01mimport\u001b[39;00m\u001b[38;5;250m \u001b[39m\u001b[38;5;21;01mimport_ipynb\u001b[39;00m\n\u001b[0;32m      2\u001b[0m \u001b[38;5;28;01mimport\u001b[39;00m\u001b[38;5;250m \u001b[39m\u001b[38;5;21;01mUntitled2\u001b[39;00m\n\u001b[1;32m----> 4\u001b[0m Untitled2\u001b[38;5;241m.\u001b[39mf1(\u001b[38;5;241m2\u001b[39m)\n",
      "\u001b[1;31mAttributeError\u001b[0m: 'ModuleSpec' object has no attribute 'f1'"
     ]
    }
   ],
   "source": [
    "import import_ipynb\n",
    "import Untitled2\n",
    "\n",
    "Untitled2.f1(2)        # ✅ 正确\n"
   ]
  },
  {
   "cell_type": "code",
   "execution_count": null,
   "id": "4399957a-e25a-420f-9085-619f8760586c",
   "metadata": {},
   "outputs": [],
   "source": []
  }
 ],
 "metadata": {
  "kernelspec": {
   "display_name": "Python 3 (ipykernel)",
   "language": "python",
   "name": "python3"
  },
  "language_info": {
   "codemirror_mode": {
    "name": "ipython",
    "version": 3
   },
   "file_extension": ".py",
   "mimetype": "text/x-python",
   "name": "python",
   "nbconvert_exporter": "python",
   "pygments_lexer": "ipython3",
   "version": "3.13.5"
  }
 },
 "nbformat": 4,
 "nbformat_minor": 5
}
