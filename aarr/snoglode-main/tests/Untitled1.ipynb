{
 "cells": [
  {
   "cell_type": "code",
   "execution_count": 2,
   "id": "32f6a363-e1d2-4c25-9df6-a350032e2b88",
   "metadata": {},
   "outputs": [],
   "source": [
    "import import_ipynb\n",
    "import Untitled "
   ]
  },
  {
   "cell_type": "code",
   "execution_count": 3,
   "id": "8e81f1df-a103-478a-85bf-b4c6e29190fb",
   "metadata": {},
   "outputs": [
    {
     "ename": "NameError",
     "evalue": "name 'TwoStageFarmer' is not defined",
     "output_type": "error",
     "traceback": [
      "\u001b[1;31m---------------------------------------------------------------------------\u001b[0m",
      "\u001b[1;31mNameError\u001b[0m                                 Traceback (most recent call last)",
      "Cell \u001b[1;32mIn[3], line 2\u001b[0m\n\u001b[0;32m      1\u001b[0m \u001b[38;5;66;03m# 1. 建一个场景模型\u001b[39;00m\n\u001b[1;32m----> 2\u001b[0m farmer \u001b[38;5;241m=\u001b[39m TwoStageFarmer(predicted_yield\u001b[38;5;241m=\u001b[39m\u001b[38;5;241m1.0\u001b[39m)   \u001b[38;5;66;03m# fair 场景\u001b[39;00m\n\u001b[0;32m      3\u001b[0m m \u001b[38;5;241m=\u001b[39m farmer\u001b[38;5;241m.\u001b[39mmodel\n\u001b[0;32m      5\u001b[0m \u001b[38;5;66;03m# 2. 选个 LP 求解器（如 glpk/cbc/gurobi），并求解\u001b[39;00m\n",
      "\u001b[1;31mNameError\u001b[0m: name 'TwoStageFarmer' is not defined"
     ]
    }
   ],
   "source": [
    "\n",
    "# 1. 建一个场景模型\n",
    "farmer = TwoStageFarmer(predicted_yield=1.0)   # fair 场景\n",
    "m = farmer.model\n",
    "\n",
    "# 2. 选个 LP 求解器（如 glpk/cbc/gurobi），并求解\n",
    "solver = pyo.SolverFactory(\"glpk\")  # 没有 glpk 就换 cbc or gurobi\n",
    "res = solver.solve(m, tee=True)\n",
    "\n",
    "# 3. 看结果\n",
    "print(\"obj =\", pyo.value(m.obj))\n",
    "for c in farmer.planting_crops:\n",
    "    print(\"x[{}] =\".format(c), pyo.value(m.x[c]))\n"
   ]
  },
  {
   "cell_type": "code",
   "execution_count": null,
   "id": "644218b8-d04c-4088-b02f-a28515c37bec",
   "metadata": {},
   "outputs": [],
   "source": []
  }
 ],
 "metadata": {
  "kernelspec": {
   "display_name": "Python 3 (ipykernel)",
   "language": "python",
   "name": "python3"
  },
  "language_info": {
   "codemirror_mode": {
    "name": "ipython",
    "version": 3
   },
   "file_extension": ".py",
   "mimetype": "text/x-python",
   "name": "python",
   "nbconvert_exporter": "python",
   "pygments_lexer": "ipython3",
   "version": "3.13.5"
  }
 },
 "nbformat": 4,
 "nbformat_minor": 5
}
