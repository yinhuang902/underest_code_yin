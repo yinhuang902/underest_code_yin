{
 "cells": [
  {
   "cell_type": "markdown",
   "metadata": {},
   "source": [
    "# Demonstration: 2-Scenario Bilinear Stochastic Program \n",
    "\n",
    "Using this simple test problem, we can demonstrate the progression of the SNoGloDe solver."
   ]
  },
  {
   "cell_type": "code",
   "execution_count": 1,
   "metadata": {
    "execution": {
     "iopub.execute_input": "2025-02-18T19:52:38.866432Z",
     "iopub.status.busy": "2025-02-18T19:52:38.865934Z",
     "iopub.status.idle": "2025-02-18T19:52:39.408205Z",
     "shell.execute_reply": "2025-02-18T19:52:39.407758Z"
    }
   },
   "outputs": [],
   "source": [
    "import pyomo.environ as pyo\n",
    "import matplotlib.pyplot as plt\n",
    "import numpy as np"
   ]
  },
  {
   "cell_type": "markdown",
   "metadata": {},
   "source": [
    "Consider the case of a bilinear optimization problem. \n",
    "\n",
    "$$\n",
    "    \\text{min.}_{x,y} - x - y\n",
    "$$\n",
    "$$\n",
    "    \\text{s.t.}    x y \\leq c\n",
    "$$\n",
    "$$\n",
    "    \\text{x}^{L} \\leq x \\leq \\text{x}^{U}\n",
    "$$\n",
    "$$\n",
    "    \\text{y}^{L} \\leq y \\leq \\text{y}^{U}\n",
    "$$\n",
    "$$\n",
    "    x \\in \\mathbb{R}^1 , y \\in \\mathbb{R}^1\n",
    "$$\n",
    "\n",
    "This is a nonconvex, continuous optimization problem. Here, $x$ and $y$ are continuous optimization variables. The constant $c$ influences the bilinear constraint. $\\text{x}^{L}$ and $\\text{x}^{U}$ are the parameterized upper and lower bound on $x$ and $\\text{y}^{L}$ and $\\text{y}^{U}$ are the parameterized upper and lower bound on $y$.\n",
    "\n",
    "Depending on the parameters chosen, we can develop different instances of this optimization problem. For this demonstration, we will consider two instances that will act as \"scenarios\" within a 2-stage stochastic program. We want to solve these two \"scenarios\" such that the $x$ variables are equivalent, while the $y$ variables can different."
   ]
  },
  {
   "cell_type": "code",
   "execution_count": 2,
   "metadata": {
    "execution": {
     "iopub.execute_input": "2025-02-18T19:52:39.411082Z",
     "iopub.status.busy": "2025-02-18T19:52:39.410802Z",
     "iopub.status.idle": "2025-02-18T19:52:39.418529Z",
     "shell.execute_reply": "2025-02-18T19:52:39.418235Z"
    }
   },
   "outputs": [],
   "source": [
    "class NonconvexOpt():\n",
    "    def __init__(self, b1=4, y_ub=6, y_lb=0, x_ub=4, x_lb=0) -> None:\n",
    "        self.b1 = b1\n",
    "        self.y_ub = y_ub\n",
    "        self.y_lb = y_lb\n",
    "        self.x_ub = x_ub\n",
    "        self.x_lb = x_lb\n",
    "        self.build_bilinear_model()\n",
    "\n",
    "    def build_bilinear_model(self):\n",
    "        m = pyo.ConcreteModel()\n",
    "        m.x = pyo.Var(within=pyo.Reals,\n",
    "                      bounds=(self.x_lb,self.x_ub))      \n",
    "        m.y = pyo.Var(within=pyo.Reals,\n",
    "                      bounds=(self.y_lb,self.y_ub))\n",
    "        m.obj = pyo.Objective( expr = ( - m.x - m.y ) )\n",
    "        @m.Constraint()\n",
    "        def c1_rule(m):\n",
    "            return (m.x * m.y <= self.b1)\n",
    "        self.m=m\n",
    "\n",
    "    def solve(self):\n",
    "        # solve model\n",
    "        opt = pyo.SolverFactory(\"gurobi\")\n",
    "        opt.options[\"NonConvex\"] = 2\n",
    "        opt.solve(self.m, tee=False)\n",
    "        # save optimal results to object\n",
    "        self.x_opt = pyo.value(self.m.x)\n",
    "        self.y_opt = pyo.value(self.m.y)\n",
    "        self.obj_opt = pyo.value(self.m.obj)\n",
    "        \n",
    "    def plot(self, title, opt_x, opt_y):\n",
    "        # plot the feasible region\n",
    "        d = np.linspace(-10,10,300)\n",
    "        x,y = np.meshgrid(d,d)\n",
    "        plt.imshow( ((y>=self.y_lb) & (y <= self.y_ub) & (x>=self.x_lb) & (x<=self.x_ub) & \\\n",
    "                     (y*x <= self.b1) ).astype(int) , \n",
    "                        extent=(x.min(),x.max(),y.min(),y.max()),\n",
    "                        origin=\"lower\", cmap=\"Greys\", alpha = 0.2);\n",
    "        # plot the lines defining the constraints\n",
    "        x = np.linspace(-1, 7, 2000)\n",
    "        # y >= 0\n",
    "        y1 = 0*x + self.y_lb\n",
    "        # y <= 4\n",
    "        y2 = 0*x + self.y_ub\n",
    "        # y <= 4/x\n",
    "        y3 = self.b1 / x\n",
    "        # Make plot\n",
    "        plt.scatter(opt_x, opt_y, marker=\"*\", color = \"gold\", s=200, zorder=100, label=\"optimal\")\n",
    "        plt.plot(x, y3, label=f'$yx\\leq {self.b1}$', color=\"blue\")\n",
    "        plt.plot(x, y1, label=f'$y\\geq {self.y_lb}$', color=\"black\")\n",
    "        plt.plot(x, y2, label=f'$y\\leq {self.y_ub}$', color=\"grey\")\n",
    "        # bounds on x var\n",
    "        plt.plot(np.linspace(self.x_lb,self.x_lb,2000), x, label=f'$x\\geq {self.x_lb}$')\n",
    "        plt.plot(np.linspace(self.x_ub,self.x_ub,2000), x, label=f'$x\\leq {self.x_ub}$', color = \"teal\")\n",
    "        plt.xlim(-1,7)\n",
    "        plt.ylim(-1,7)\n",
    "        plt.legend(bbox_to_anchor=(1.05, 1), loc=2, borderaxespad=0.)\n",
    "        plt.xlabel(r'$x$')\n",
    "        plt.ylabel(r'$y$')\n",
    "        plt.title(title)\n",
    "        plt.grid()\n",
    "        plt.show()"
   ]
  },
  {
   "cell_type": "markdown",
   "metadata": {},
   "source": [
    "### Scenario (1)\n",
    "\n",
    "The first scenario has $c$ = 4, $\\text{x}^{L}$ = 0, $\\text{x}^{U}$ = 6, $\\text{y}^{L}$ = 0, and $\\text{y}^{U}$ = 4.\n",
    "\n",
    "See below for the optimal solution to the deterministic model, along with a plot of the feasible space and optimal solution."
   ]
  },
  {
   "cell_type": "code",
   "execution_count": 3,
   "metadata": {
    "execution": {
     "iopub.execute_input": "2025-02-18T19:52:39.420423Z",
     "iopub.status.busy": "2025-02-18T19:52:39.420292Z",
     "iopub.status.idle": "2025-02-18T19:52:39.730056Z",
     "shell.execute_reply": "2025-02-18T19:52:39.729653Z"
    }
   },
   "outputs": [
    {
     "name": "stdout",
     "output_type": "stream",
     "text": [
      "OPTIMAL SOLUTION:\n",
      "\tobj = -6.667\n",
      "\tx = 6.0\n",
      "\ty = 0.667\n"
     ]
    },
    {
     "data": {
      "image/png": "[encoded data removed]",
      "text/plain": [
       "<Figure size 640x480 with 1 Axes>"
      ]
     },
     "metadata": {},
     "output_type": "display_data"
    }
   ],
   "source": [
    "model1 = NonconvexOpt(b1=4,\n",
    "                      y_lb=0,\n",
    "                      y_ub=4,\n",
    "                      x_lb=0,\n",
    "                      x_ub=6)\n",
    "model1.solve()\n",
    "print(f\"OPTIMAL SOLUTION:\\n\\tobj = {round(model1.obj_opt,3)}\\n\\tx = {round(model1.x_opt,3)}\\n\\ty = {round(model1.y_opt,3)}\")\n",
    "model1.plot(\"Model 1\", opt_x=model1.x_opt, opt_y=model1.y_opt)"
   ]
  },
  {
   "cell_type": "markdown",
   "metadata": {},
   "source": [
    "### Scenario (2)\n",
    "\n",
    "The first scenario has $c$ = 8, $\\text{x}^{L}$ = 0, $\\text{x}^{U}$ = 4, $\\text{y}^{L}$ = 0, and $\\text{y}^{U}$ = 6.\n",
    "\n",
    "See below for the optimal solution to the deterministic model, along with a plot of the feasible space and optimal solution."
   ]
  },
  {
   "cell_type": "code",
   "execution_count": 4,
   "metadata": {
    "execution": {
     "iopub.execute_input": "2025-02-18T19:52:39.732612Z",
     "iopub.status.busy": "2025-02-18T19:52:39.732263Z",
     "iopub.status.idle": "2025-02-18T19:52:39.888804Z",
     "shell.execute_reply": "2025-02-18T19:52:39.888450Z"
    }
   },
   "outputs": [
    {
     "name": "stdout",
     "output_type": "stream",
     "text": [
      "OPTIMAL SOLUTION:\n",
      "\tobj = -7.333\n",
      "\tx = 1.333\n",
      "\ty = 6.0\n"
     ]
    },
    {
     "data": {
      "image/png": "[encoded data removed]",
      "text/plain": [
       "<Figure size 640x480 with 1 Axes>"
      ]
     },
     "metadata": {},
     "output_type": "display_data"
    }
   ],
   "source": [
    "model2 = NonconvexOpt(b1=8,\n",
    "                      y_lb=0,\n",
    "                      y_ub=6,\n",
    "                      x_lb=0,\n",
    "                      x_ub=4)\n",
    "model2.solve()\n",
    "print(f\"OPTIMAL SOLUTION:\\n\\tobj = {round(model2.obj_opt,3)}\\n\\tx = {round(model2.x_opt,3)}\\n\\ty = {round(model2.y_opt,3)}\")\n",
    "model2.plot(\"Model 2\", opt_x=model2.x_opt, opt_y=model2.y_opt)"
   ]
  },
  {
   "cell_type": "markdown",
   "metadata": {},
   "source": [
    "### Extensive Form\n",
    "\n",
    "We can also build and solve this example's extensive form using these two scenarios."
   ]
  },
  {
   "cell_type": "code",
   "execution_count": 5,
   "metadata": {
    "execution": {
     "iopub.execute_input": "2025-02-18T19:52:39.890771Z",
     "iopub.status.busy": "2025-02-18T19:52:39.890635Z",
     "iopub.status.idle": "2025-02-18T19:52:39.894364Z",
     "shell.execute_reply": "2025-02-18T19:52:39.894035Z"
    }
   },
   "outputs": [],
   "source": [
    "def EF(m1, m2):\n",
    "    ef = pyo.ConcreteModel()\n",
    "    # add two models as blocks\n",
    "    ef.add_component(\"m1\", m1)\n",
    "    ef.add_component(\"m2\", m2)\n",
    "    # aggregate objective\n",
    "    ef.obj = pyo.Objective( expr = 0.5*m1.obj + 0.5*m2.obj )\n",
    "    # add the first stage var - x\n",
    "    x_lb = min(ef.m1.x.lb, ef.m2.x.lb)\n",
    "    x_ub = min(ef.m1.x.ub, ef.m2.x.ub)\n",
    "    ef.x = pyo.Var(within=pyo.Reals,\n",
    "                   bounds = (x_lb, x_ub))\n",
    "    # make x = x1\n",
    "    @ef.Constraint()\n",
    "    def nonant_x1_rule(ef):\n",
    "        return (ef.x == ef.m1.x)\n",
    "    # make x = x2\n",
    "    @ef.Constraint()\n",
    "    def nonant_x2_rule(ef):\n",
    "        return (ef.x == ef.m2.x)\n",
    "    return ef\n",
    "\n",
    "def solve_ef(ef):\n",
    "    ef.m1.obj.deactivate()\n",
    "    ef.m2.obj.deactivate()\n",
    "    opt = pyo.SolverFactory(\"gurobi\")\n",
    "    opt.options[\"NonConvex\"] = 2\n",
    "    opt.solve(ef, tee=False)"
   ]
  },
  {
   "cell_type": "code",
   "execution_count": 6,
   "metadata": {
    "execution": {
     "iopub.execute_input": "2025-02-18T19:52:39.896182Z",
     "iopub.status.busy": "2025-02-18T19:52:39.896050Z",
     "iopub.status.idle": "2025-02-18T19:52:39.898332Z",
     "shell.execute_reply": "2025-02-18T19:52:39.897958Z"
    }
   },
   "outputs": [],
   "source": [
    "# build the model\n",
    "ef = EF(model1.m, model2.m)"
   ]
  },
  {
   "cell_type": "code",
   "execution_count": 7,
   "metadata": {
    "execution": {
     "iopub.execute_input": "2025-02-18T19:52:39.900049Z",
     "iopub.status.busy": "2025-02-18T19:52:39.899917Z",
     "iopub.status.idle": "2025-02-18T19:52:39.907814Z",
     "shell.execute_reply": "2025-02-18T19:52:39.907487Z"
    }
   },
   "outputs": [],
   "source": [
    "# solve the EF\n",
    "solve_ef(ef)"
   ]
  },
  {
   "cell_type": "code",
   "execution_count": 8,
   "metadata": {
    "execution": {
     "iopub.execute_input": "2025-02-18T19:52:39.909748Z",
     "iopub.status.busy": "2025-02-18T19:52:39.909602Z",
     "iopub.status.idle": "2025-02-18T19:52:39.913050Z",
     "shell.execute_reply": "2025-02-18T19:52:39.912732Z"
    }
   },
   "outputs": [
    {
     "name": "stdout",
     "output_type": "stream",
     "text": [
      "Model unknown\n",
      "\n",
      "  Variables:\n",
      "    x : Size=1, Index=None\n",
      "        Key  : Lower : Value : Upper : Fixed : Stale : Domain\n",
      "        None :     0 :   1.0 :     4 : False : False :  Reals\n",
      "\n",
      "  Objectives:\n",
      "    obj : Size=1, Index=None, Active=True\n",
      "        Key  : Active : Value\n",
      "        None :   True :  -6.0\n",
      "\n",
      "  Constraints:\n",
      "    nonant_x1_rule : Size=1\n",
      "        Key  : Lower : Body : Upper\n",
      "        None :   0.0 :  0.0 :   0.0\n",
      "    nonant_x2_rule : Size=1\n",
      "        Key  : Lower : Body : Upper\n",
      "        None :   0.0 :  0.0 :   0.0\n",
      "\n",
      "  Blocks:\n",
      "    Block m1\n",
      "    \n",
      "      Variables:\n",
      "        x : Size=1, Index=None\n",
      "            Key  : Lower : Value : Upper : Fixed : Stale : Domain\n",
      "            None :     0 :   1.0 :     6 : False : False :  Reals\n",
      "        y : Size=1, Index=None\n",
      "            Key  : Lower : Value : Upper : Fixed : Stale : Domain\n",
      "            None :     0 :   4.0 :     4 : False : False :  Reals\n",
      "    \n",
      "      Objectives:\n",
      "        None\n",
      "    \n",
      "      Constraints:\n",
      "        c1_rule : Size=1\n",
      "            Key  : Lower : Body : Upper\n",
      "            None :  None :  4.0 :   4.0\n",
      "    Block m2\n",
      "    \n",
      "      Variables:\n",
      "        x : Size=1, Index=None\n",
      "            Key  : Lower : Value : Upper : Fixed : Stale : Domain\n",
      "            None :     0 :   1.0 :     4 : False : False :  Reals\n",
      "        y : Size=1, Index=None\n",
      "            Key  : Lower : Value : Upper : Fixed : Stale : Domain\n",
      "            None :     0 :   6.0 :     6 : False : False :  Reals\n",
      "    \n",
      "      Objectives:\n",
      "        None\n",
      "    \n",
      "      Constraints:\n",
      "        c1_rule : Size=1\n",
      "            Key  : Lower : Body : Upper\n",
      "            None :  None :  6.0 :   8.0\n"
     ]
    }
   ],
   "source": [
    "# visualize the model\n",
    "ef.display()"
   ]
  },
  {
   "cell_type": "markdown",
   "metadata": {},
   "source": [
    "We can visualize the results of the EF. The x variables are the same across both scenarios, while we are allowed to have different y's. We solved this EF with an equal probabilistic weight (so Scenario (1) and Scenario (2) both have a probability of 1/2)."
   ]
  },
  {
   "cell_type": "code",
   "execution_count": 9,
   "metadata": {
    "execution": {
     "iopub.execute_input": "2025-02-18T19:52:39.914749Z",
     "iopub.status.busy": "2025-02-18T19:52:39.914613Z",
     "iopub.status.idle": "2025-02-18T19:52:40.216513Z",
     "shell.execute_reply": "2025-02-18T19:52:40.216169Z"
    }
   },
   "outputs": [
    {
     "name": "stdout",
     "output_type": "stream",
     "text": [
      "OPTIMAL SOLUTION EF:\n",
      "\tobj = -6.0\n",
      "\tx = 1.0\n",
      "\ty1 = 4.0\n",
      "\ty2 = 6.0\n"
     ]
    },
    {
     "data": {
      "image/png": "[encoded data removed]",
      "text/plain": [
       "<Figure size 640x480 with 1 Axes>"
      ]
     },
     "metadata": {},
     "output_type": "display_data"
    },
    {
     "data": {
      "image/png": "[encoded data removed]",
      "text/plain": [
       "<Figure size 640x480 with 1 Axes>"
      ]
     },
     "metadata": {},
     "output_type": "display_data"
    }
   ],
   "source": [
    "ef_opt_x = pyo.value(ef.x)\n",
    "ef_opt_y1 = pyo.value(ef.m1.y)\n",
    "ef_opt_y2 = pyo.value(ef.m2.y)\n",
    "ef_opt_obj = pyo.value(ef.obj)\n",
    "print(f\"OPTIMAL SOLUTION EF:\\n\\tobj = {ef_opt_obj}\\n\\tx = {ef_opt_x}\\n\\ty1 = {ef_opt_y1}\\n\\ty2 = {ef_opt_y2}\")\n",
    "model1.plot(\"Model 1: EF Solution\", opt_x=ef_opt_x, opt_y=ef_opt_y1)\n",
    "model2.plot(\"Model 2: EF Solution\", opt_x=ef_opt_x, opt_y=ef_opt_y2)"
   ]
  },
  {
   "cell_type": "markdown",
   "metadata": {},
   "source": [
    "## SNoGlode: Structured Nonlinear Global Optimization Solver\n",
    "\n",
    "This is a very small example case study. If we can easily solve the EF, SNoGlode is a bit of overkill but it will serve well in this case for demonstrative purposes. "
   ]
  },
  {
   "cell_type": "code",
   "execution_count": 10,
   "metadata": {
    "execution": {
     "iopub.execute_input": "2025-02-18T19:52:40.218555Z",
     "iopub.status.busy": "2025-02-18T19:52:40.218313Z",
     "iopub.status.idle": "2025-02-18T19:52:40.247376Z",
     "shell.execute_reply": "2025-02-18T19:52:40.247010Z"
    }
   },
   "outputs": [],
   "source": [
    "import snoglode as sno"
   ]
  },
  {
   "cell_type": "code",
   "execution_count": 11,
   "metadata": {
    "execution": {
     "iopub.execute_input": "2025-02-18T19:52:40.249612Z",
     "iopub.status.busy": "2025-02-18T19:52:40.249301Z",
     "iopub.status.idle": "2025-02-18T19:52:40.253113Z",
     "shell.execute_reply": "2025-02-18T19:52:40.252769Z"
    }
   },
   "outputs": [],
   "source": [
    "def subproblem_creator(subproblem_name):\n",
    "    if subproblem_name==\"model1\":\n",
    "        optmodel = NonconvexOpt(b1=4,\n",
    "                                y_lb=0,\n",
    "                                y_ub=4,\n",
    "                                x_lb=0,\n",
    "                                x_ub=6)\n",
    "        model = optmodel.m\n",
    "    if subproblem_name==\"model2\":\n",
    "        optmodel = NonconvexOpt(b1=8,\n",
    "                                y_lb=0,\n",
    "                                y_ub=6,\n",
    "                                x_lb=0,\n",
    "                                x_ub=4)\n",
    "        model = optmodel.m\n",
    "    \n",
    "    lifted_variable_ids = {\"x\": model.x}\n",
    "    subproblem_probability = 1/2\n",
    "\n",
    "    return [model,                              # pyomo model corresponding to this subproblem\n",
    "            lifted_variable_ids,                # lifted varID : pyo.Var dict\n",
    "            subproblem_probability]             # probability of this subproblem\n",
    "\n",
    "subproblem_names = [\"model1\", \"model2\"]\n",
    "gurobi = pyo.SolverFactory(\"gurobi\")\n",
    "gurobi.options[\"NonConvex\"] = 2\n",
    "\n",
    "lb_solver = gurobi\n",
    "cg_solver = gurobi\n",
    "ub_solver = gurobi"
   ]
  },
  {
   "cell_type": "markdown",
   "metadata": {},
   "source": [
    "SNGO is highly customizable, in how we choose to solve a lower bounding problem and how we generate candidate solutions for the upper bounding problem. First, we can solve this problem using the default lower bounder (dropping nonanticipativaty constraints and solving each of the subproblems (or scenarios) independent of one another, enforcing bounds to reflect current node of the spatial BnB tree) and the averaging candidate solution method. This candidate generation method takes the solution of all of the first stage (or lifted) variables at the current iterations solve, averages them across the scenarios, and uses the aggregated variable value for the candidate solution. "
   ]
  },
  {
   "cell_type": "code",
   "execution_count": 12,
   "metadata": {
    "execution": {
     "iopub.execute_input": "2025-02-18T19:52:40.255030Z",
     "iopub.status.busy": "2025-02-18T19:52:40.254890Z",
     "iopub.status.idle": "2025-02-18T19:52:40.258060Z",
     "shell.execute_reply": "2025-02-18T19:52:40.257673Z"
    }
   },
   "outputs": [
    {
     "name": "stdout",
     "output_type": "stream",
     "text": [
      "--------------------------------------------------\n",
      "SNoGloDe Solver Parameters\n",
      "--------------------------------------------------\n",
      "\n",
      "Subproblem Names:\n",
      "  - model1\n",
      "  - model2\n",
      "Total # subproblems: 2\n",
      "\n",
      "LB solver: gurobi\n",
      "UB solver: gurobi\n",
      "CG solver: gurobi\n",
      "\n",
      "Global convergance guaranteed: True\n",
      "Epsilon: 0.001\n",
      "Perform FBBT: True\n",
      "Relax binaries at LB: False\n",
      "\n",
      "Bounder Information\n",
      "  - Lower Bounder: DropNonants\n",
      "  - Candidate Generator: AverageLowerBoundSolution\n",
      "\n",
      "Queuing strategy: QueueStrategy.bound\n",
      "Using a node feasibility checker? : False\n",
      "\n",
      "Branching Information\n",
      "  - Selection Strategy: RandomSelection\n",
      "  - Partition Strategy: Midpoint\n",
      "\n",
      "Verbose: False\n",
      "No log file generated.\n",
      "\n",
      "--------------------------------------------------\n"
     ]
    }
   ],
   "source": [
    "params = sno.SolverParameters(subproblem_names=subproblem_names,\n",
    "                              subproblem_creator=subproblem_creator,\n",
    "                              lb_solver = lb_solver,\n",
    "                              cg_solver = cg_solver,\n",
    "                              ub_solver = ub_solver)\n",
    "params.set_bounders(candidate_solution_finder = sno.AverageLowerBoundSolution)\n",
    "params.display()"
   ]
  },
  {
   "cell_type": "code",
   "execution_count": 13,
   "metadata": {
    "execution": {
     "iopub.execute_input": "2025-02-18T19:52:40.259771Z",
     "iopub.status.busy": "2025-02-18T19:52:40.259633Z",
     "iopub.status.idle": "2025-02-18T19:52:40.406970Z",
     "shell.execute_reply": "2025-02-18T19:52:40.406622Z"
    }
   },
   "outputs": [
    {
     "name": "stdout",
     "output_type": "stream",
     "text": [
      "        Time (s)  Nodes Explored       Pruned by                              LB              UB        Rel. Gap        Abs. Gap         # Nodes\n",
      "---------------------------------------------------------------------------------------------------------------------------------------------------------------------------\n",
      "           0.015               1                                      -6.1666667      -4.9166667        25.4237%            1.25               2\n"
     ]
    },
    {
     "name": "stdout",
     "output_type": "stream",
     "text": [
      "           0.029               2                           * U        -6.1666667      -5.8809524         4.8583%        0.285714               3\n"
     ]
    },
    {
     "name": "stdout",
     "output_type": "stream",
     "text": [
      "           0.037               3           Bound                      -6.1666667      -5.8809524         4.8583%        0.285714               2\n"
     ]
    },
    {
     "name": "stdout",
     "output_type": "stream",
     "text": [
      "           0.048               4                           * U        -6.1666667            -6.0         2.7778%        0.166667               3\n"
     ]
    },
    {
     "name": "stdout",
     "output_type": "stream",
     "text": [
      "           0.062               5                                      -6.1666667            -6.0         2.7778%        0.166667               4\n"
     ]
    },
    {
     "name": "stdout",
     "output_type": "stream",
     "text": [
      "           0.075               6                                      -6.1666667            -6.0         2.7778%        0.166667               5\n"
     ]
    },
    {
     "name": "stdout",
     "output_type": "stream",
     "text": [
      "           0.082               7           Bound                      -6.1666667            -6.0         2.7778%        0.166667               4\n"
     ]
    },
    {
     "name": "stdout",
     "output_type": "stream",
     "text": [
      "             0.1               8                                      -6.1666667            -6.0         2.7778%        0.166667               5\n"
     ]
    },
    {
     "name": "stdout",
     "output_type": "stream",
     "text": [
      "           0.107               9                                          -6.125            -6.0         2.0833%           0.125               4\n"
     ]
    },
    {
     "name": "stdout",
     "output_type": "stream",
     "text": [
      "           0.119              10                                          -6.125            -6.0         2.0833%           0.125               5\n"
     ]
    },
    {
     "name": "stdout",
     "output_type": "stream",
     "text": [
      "           0.126              11                                         -6.0625            -6.0         1.0417%          0.0625               4\n"
     ]
    },
    {
     "name": "stdout",
     "output_type": "stream",
     "text": [
      "           0.137              12                                         -6.0625            -6.0         1.0417%          0.0625               5\n"
     ]
    },
    {
     "name": "stdout",
     "output_type": "stream",
     "text": [
      "           0.143              13                                        -6.03125            -6.0         0.5208%         0.03125               4\n",
      "SNoGloDe converged - relative gap tolerance met.\n"
     ]
    }
   ],
   "source": [
    "solver = sno.Solver(params)\n",
    "solver.solve(max_iter=50,\n",
    "             collect_plot_info=True)"
   ]
  },
  {
   "cell_type": "code",
   "execution_count": 14,
   "metadata": {
    "execution": {
     "iopub.execute_input": "2025-02-18T19:52:40.408876Z",
     "iopub.status.busy": "2025-02-18T19:52:40.408739Z",
     "iopub.status.idle": "2025-02-18T19:52:40.411467Z",
     "shell.execute_reply": "2025-02-18T19:52:40.411183Z"
    }
   },
   "outputs": [
    {
     "name": "stdout",
     "output_type": "stream",
     "text": [
      "\n",
      "====================================================================\n",
      "SOLUTION\n",
      "Obj: -6.0\n",
      "subproblem = model1\n",
      "  var name = x, value = 1.0\n",
      "  var name = y, value = 4.0\n",
      "\n",
      "subproblem = model2\n",
      "  var name = x, value = 1.0\n",
      "  var name = y, value = 6.0\n",
      "\n",
      "====================================================================\n"
     ]
    }
   ],
   "source": [
    "print(\"\\n====================================================================\")\n",
    "print(\"SOLUTION\")\n",
    "print(f\"Obj: {solver.tree.metrics.ub}\")\n",
    "for name in subproblem_names:\n",
    "    print(f\"subproblem = {name}\")\n",
    "    for var_name in solver.solution.subproblem_solutions[name]:\n",
    "        var_val = solver.solution.subproblem_solutions[name][var_name]\n",
    "        print(f\"  var name = {var_name}, value = {var_val}\")\n",
    "    print()\n",
    "print(\"====================================================================\")"
   ]
  },
  {
   "cell_type": "code",
   "execution_count": 15,
   "metadata": {
    "execution": {
     "iopub.execute_input": "2025-02-18T19:52:40.413175Z",
     "iopub.status.busy": "2025-02-18T19:52:40.413041Z",
     "iopub.status.idle": "2025-02-18T19:52:40.550542Z",
     "shell.execute_reply": "2025-02-18T19:52:40.550168Z"
    }
   },
   "outputs": [
    {
     "data": {
      "image/png": "[encoded data removed]",
      "text/plain": [
       "<Figure size 640x480 with 1 Axes>"
      ]
     },
     "metadata": {},
     "output_type": "display_data"
    }
   ],
   "source": [
    "num_iters = np.arange(solver.iteration)\n",
    "plt.plot(num_iters, solver.plotter.iter_lb, label = \"lb\", color=\"blue\")\n",
    "plt.plot(num_iters, solver.plotter.iter_ub, label = \"ub\", color=\"red\")\n",
    "plt.legend()\n",
    "plt.xlabel(\"SNoGloDe iteration\")\n",
    "plt.xticks(num_iters)\n",
    "plt.ylabel(\"objective value\")\n",
    "plt.title(\"SNoGloDe Gap per Iteration: Averaging CG\");"
   ]
  },
  {
   "cell_type": "markdown",
   "metadata": {},
   "source": [
    "We can see how the spatial branch and bound tree progresses over the iterations."
   ]
  },
  {
   "cell_type": "code",
   "execution_count": 16,
   "metadata": {
    "execution": {
     "iopub.execute_input": "2025-02-18T19:52:40.552553Z",
     "iopub.status.busy": "2025-02-18T19:52:40.552400Z",
     "iopub.status.idle": "2025-02-18T19:52:40.558075Z",
     "shell.execute_reply": "2025-02-18T19:52:40.557679Z"
    }
   },
   "outputs": [],
   "source": [
    "def plot(self, title, opt_x, opt_y, x_lb, x_ub):\n",
    "\n",
    "    fig, ax = plt.subplot()\n",
    "\n",
    "    # plot the feasible region\n",
    "    d = np.linspace(-10,10,300)\n",
    "    x,y = np.meshgrid(d,d)\n",
    "    plt.imshow( ((y>=self.y_lb) & (y <= self.y_ub) & (x>=self.x_lb) & (x<=self.x_ub) & \\\n",
    "                    (y*x <= self.b1) ).astype(int) , \n",
    "                    extent=(x.min(),x.max(),y.min(),y.max()),\n",
    "                    origin=\"lower\", cmap=\"Greys\", alpha = 0.2);\n",
    "    # plot the lines defining the constraints\n",
    "    x = np.linspace(-1, 7, 2000)\n",
    "    # y >= 0\n",
    "    y1 = 0*x + self.y_lb\n",
    "    # y <= 4\n",
    "    y2 = 0*x + self.y_ub\n",
    "    # y <= 4/x\n",
    "    y3 = self.b1 / x\n",
    "    # Make plot\n",
    "    plt.scatter(opt_x, opt_y, marker=\"*\", color = \"gold\", s=200, zorder=100, label=\"optimal\")\n",
    "    plt.plot(x, y3, label=f'$yx\\leq {self.b1}$', color=\"blue\")\n",
    "    plt.plot(x, y1, label=f'$y\\geq {self.y_lb}$', color=\"black\")\n",
    "    plt.plot(x, y2, label=f'$y\\leq {self.y_ub}$', color=\"grey\")\n",
    "    # bounds on x var\n",
    "    plt.plot(np.linspace(self.x_lb,self.x_lb,2000), x, label=f'$x\\geq {self.x_lb}$')\n",
    "    plt.plot(np.linspace(self.x_ub,self.x_ub,2000), x, label=f'$x\\leq {self.x_ub}$', color = \"teal\")\n",
    "    plt.xlim(-1,7)\n",
    "    plt.ylim(-1,7)\n",
    "    plt.legend(bbox_to_anchor=(1.05, 1), loc=2, borderaxespad=0.)\n",
    "    plt.xlabel(r'$x$')\n",
    "    plt.ylabel(r'$y$')\n",
    "    plt.title(title)\n",
    "\n",
    "    # shade to indicate the spacial BnB node\n",
    "    ax.axvspan(-2, x_lb, alpha=0.2, color='red')\n",
    "    ax.axvspan(x_ub, 8, alpha=0.2, color='red')\n",
    "\n",
    "    plt.grid()\n",
    "    plt.show()"
   ]
  },
  {
   "cell_type": "markdown",
   "metadata": {},
   "source": [
    "We can also solve this problem using the default lower bounder (dropping nonanticipativaty constraints and solving each of the subproblems (or scenarios) independent of one another, enforcing bounds to reflect current node of the spatial BnB tree) and the extensive form method for candidate generation. This method is intended to be used to solve the EF to *local* optimality, and using this as a candidate solution for the upper bounding problem. For this example, because we can solve the EF trivially, we reach the best UB in the first iteration."
   ]
  },
  {
   "cell_type": "code",
   "execution_count": 17,
   "metadata": {
    "execution": {
     "iopub.execute_input": "2025-02-18T19:52:40.559886Z",
     "iopub.status.busy": "2025-02-18T19:52:40.559745Z",
     "iopub.status.idle": "2025-02-18T19:52:40.561966Z",
     "shell.execute_reply": "2025-02-18T19:52:40.561654Z"
    }
   },
   "outputs": [
    {
     "name": "stdout",
     "output_type": "stream",
     "text": [
      "--------------------------------------------------\n",
      "SNoGloDe Solver Parameters\n",
      "--------------------------------------------------\n",
      "\n",
      "Subproblem Names:\n",
      "  - model1\n",
      "  - model2\n",
      "Total # subproblems: 2\n",
      "\n",
      "LB solver: gurobi\n",
      "UB solver: gurobi\n",
      "CG solver: gurobi\n",
      "\n",
      "Global convergance guaranteed: True\n",
      "Epsilon: 0.001\n",
      "Perform FBBT: True\n",
      "Relax binaries at LB: False\n",
      "\n",
      "Bounder Information\n",
      "  - Lower Bounder: DropNonants\n",
      "  - Candidate Generator: SolveExtensiveForm\n",
      "\n",
      "Queuing strategy: QueueStrategy.bound\n",
      "Using a node feasibility checker? : False\n",
      "\n",
      "Branching Information\n",
      "  - Selection Strategy: RandomSelection\n",
      "  - Partition Strategy: Midpoint\n",
      "\n",
      "Verbose: False\n",
      "No log file generated.\n",
      "\n",
      "--------------------------------------------------\n"
     ]
    }
   ],
   "source": [
    "params.set_bounders(candidate_solution_finder = sno.SolveExtensiveForm)\n",
    "params.display()"
   ]
  },
  {
   "cell_type": "code",
   "execution_count": 18,
   "metadata": {
    "execution": {
     "iopub.execute_input": "2025-02-18T19:52:40.563668Z",
     "iopub.status.busy": "2025-02-18T19:52:40.563539Z",
     "iopub.status.idle": "2025-02-18T19:52:40.735498Z",
     "shell.execute_reply": "2025-02-18T19:52:40.735207Z"
    }
   },
   "outputs": [
    {
     "name": "stdout",
     "output_type": "stream",
     "text": [
      "        Time (s)  Nodes Explored       Pruned by                              LB              UB        Rel. Gap        Abs. Gap         # Nodes\n",
      "---------------------------------------------------------------------------------------------------------------------------------------------------------------------------\n",
      "           0.018               1                                      -6.1666667            -6.0         2.7778%        0.166667               2\n"
     ]
    },
    {
     "name": "stdout",
     "output_type": "stream",
     "text": [
      "           0.036               2                                      -6.1666667            -6.0         2.7778%        0.166667               3\n"
     ]
    },
    {
     "name": "stdout",
     "output_type": "stream",
     "text": [
      "           0.044               3           Bound                      -6.1666667            -6.0         2.7778%        0.166667               2\n"
     ]
    },
    {
     "name": "stdout",
     "output_type": "stream",
     "text": [
      "           0.058               4                                      -6.1666667            -6.0         2.7778%        0.166667               3\n"
     ]
    },
    {
     "name": "stdout",
     "output_type": "stream",
     "text": [
      "           0.075               5                                      -6.1666667            -6.0         2.7778%        0.166667               4\n"
     ]
    },
    {
     "name": "stdout",
     "output_type": "stream",
     "text": [
      "           0.091               6                                      -6.1666667            -6.0         2.7778%        0.166667               5\n"
     ]
    },
    {
     "name": "stdout",
     "output_type": "stream",
     "text": [
      "           0.099               7           Bound                      -6.1666667            -6.0         2.7778%        0.166667               4\n"
     ]
    },
    {
     "name": "stdout",
     "output_type": "stream",
     "text": [
      "           0.115               8                                      -6.1666667            -6.0         2.7778%        0.166667               5\n"
     ]
    },
    {
     "name": "stdout",
     "output_type": "stream",
     "text": [
      "           0.123               9                                          -6.125            -6.0         2.0833%           0.125               4\n"
     ]
    },
    {
     "name": "stdout",
     "output_type": "stream",
     "text": [
      "           0.139              10                                          -6.125            -6.0         2.0833%           0.125               5\n"
     ]
    },
    {
     "name": "stdout",
     "output_type": "stream",
     "text": [
      "           0.145              11                                         -6.0625            -6.0         1.0417%          0.0625               4\n"
     ]
    },
    {
     "name": "stdout",
     "output_type": "stream",
     "text": [
      "            0.16              12                                         -6.0625            -6.0         1.0417%          0.0625               5\n"
     ]
    },
    {
     "name": "stdout",
     "output_type": "stream",
     "text": [
      "           0.167              13                                        -6.03125            -6.0         0.5208%         0.03125               4\n",
      "SNoGloDe converged - relative gap tolerance met.\n"
     ]
    }
   ],
   "source": [
    "solver = sno.Solver(params)\n",
    "solver.solve(max_iter=50,\n",
    "             collect_plot_info=True)"
   ]
  },
  {
   "cell_type": "code",
   "execution_count": 19,
   "metadata": {
    "execution": {
     "iopub.execute_input": "2025-02-18T19:52:40.737319Z",
     "iopub.status.busy": "2025-02-18T19:52:40.737186Z",
     "iopub.status.idle": "2025-02-18T19:52:40.739856Z",
     "shell.execute_reply": "2025-02-18T19:52:40.739568Z"
    }
   },
   "outputs": [
    {
     "name": "stdout",
     "output_type": "stream",
     "text": [
      "\n",
      "====================================================================\n",
      "SOLUTION\n",
      "Obj: -6.0\n",
      "subproblem = model1\n",
      "  var name = model1.x, value = 1.0\n",
      "  var name = model1.y, value = 4.0\n",
      "\n",
      "subproblem = model2\n",
      "  var name = model2.x, value = 1.0\n",
      "  var name = model2.y, value = 6.0\n",
      "\n",
      "====================================================================\n"
     ]
    }
   ],
   "source": [
    "print(\"\\n====================================================================\")\n",
    "print(\"SOLUTION\")\n",
    "print(f\"Obj: {solver.tree.metrics.ub}\")\n",
    "for name in subproblem_names:\n",
    "    print(f\"subproblem = {name}\")\n",
    "    for var_name in solver.solution.subproblem_solutions[name]:\n",
    "        var_val = solver.solution.subproblem_solutions[name][var_name]\n",
    "        print(f\"  var name = {var_name}, value = {var_val}\")\n",
    "    print()\n",
    "print(\"====================================================================\")"
   ]
  },
  {
   "cell_type": "code",
   "execution_count": 20,
   "metadata": {
    "execution": {
     "iopub.execute_input": "2025-02-18T19:52:40.741483Z",
     "iopub.status.busy": "2025-02-18T19:52:40.741354Z",
     "iopub.status.idle": "2025-02-18T19:52:40.881967Z",
     "shell.execute_reply": "2025-02-18T19:52:40.881616Z"
    }
   },
   "outputs": [
    {
     "data": {
      "image/png": "[encoded data removed]",
      "text/plain": [
       "<Figure size 640x480 with 1 Axes>"
      ]
     },
     "metadata": {},
     "output_type": "display_data"
    }
   ],
   "source": [
    "num_iters = np.arange(solver.iteration)\n",
    "plt.plot(num_iters, solver.plotter.iter_lb, label = \"lb\", color=\"blue\")\n",
    "plt.plot(num_iters, solver.plotter.iter_ub, label = \"ub\", color=\"red\")\n",
    "plt.legend()\n",
    "plt.xlabel(\"SNoGlode iteration\")\n",
    "plt.xticks(num_iters)\n",
    "plt.ylabel(\"objective value\")\n",
    "plt.title(\"SNoGlode Gap per Iteration: EF CG\");"
   ]
  },
  {
   "cell_type": "code",
   "execution_count": 21,
   "metadata": {
    "execution": {
     "iopub.execute_input": "2025-02-18T19:52:40.883897Z",
     "iopub.status.busy": "2025-02-18T19:52:40.883766Z",
     "iopub.status.idle": "2025-02-18T19:52:40.885974Z",
     "shell.execute_reply": "2025-02-18T19:52:40.885645Z"
    }
   },
   "outputs": [
    {
     "name": "stdout",
     "output_type": "stream",
     "text": [
      "Jupyter notebook last ran: 2025-02-18 14:52:40.884428\n"
     ]
    }
   ],
   "source": [
    "import datetime\n",
    "now = datetime.datetime.now()\n",
    "print(\"Jupyter notebook last ran:\", now)"
   ]
  }
 ],
 "metadata": {
  "kernelspec": {
   "display_name": "snoglode",
   "language": "python",
   "name": "python3"
  },
  "language_info": {
   "codemirror_mode": {
    "name": "ipython",
    "version": 3
   },
   "file_extension": ".py",
   "mimetype": "text/x-python",
   "name": "python",
   "nbconvert_exporter": "python",
   "pygments_lexer": "ipython3",
   "version": "3.11.5"
  }
 },
 "nbformat": 4,
 "nbformat_minor": 2
}
